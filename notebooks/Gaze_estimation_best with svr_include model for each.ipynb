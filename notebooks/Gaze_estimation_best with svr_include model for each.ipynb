{
  "cells": [
    {
      "cell_type": "markdown",
      "metadata": {
        "id": "sbgDk5QxBp7C"
      },
      "source": [
        "## Imports"
      ]
    },
    {
      "cell_type": "code",
      "execution_count": 2,
      "metadata": {
        "id": "qv9Vh1ysP3sX"
      },
      "outputs": [],
      "source": [
        "import numpy as np\n",
        "import pandas as pd\n",
        "from sklearn.model_selection import train_test_split\n",
        "import matplotlib.pyplot as plt\n",
        "\n",
        "from sklearn.tree import DecisionTreeRegressor\n",
        "from sklearn.ensemble import  RandomForestRegressor\n",
        "from sklearn.model_selection import cross_val_score\n",
        "from sklearn.model_selection import RepeatedKFold\n",
        "from sklearn import svm\n",
        "from sklearn.neighbors import KNeighborsRegressor\n",
        "from sklearn import linear_model\n",
        "from sklearn.svm import SVR\n",
        "from sklearn.multioutput import MultiOutputRegressor\n",
        "import xgboost as xgb\n",
        "\n",
        "from sklearn.model_selection import GridSearchCV\n",
        "from sklearn.pipeline import Pipeline\n",
        "import sklearn.metrics\n",
        "\n",
        "from sklearn.preprocessing import MinMaxScaler\n",
        "\n",
        "from sklearn.decomposition import PCA\n",
        "import pickle\n"
      ]
    },
    {
      "cell_type": "markdown",
      "metadata": {
        "id": "KP5Z--uS4X2Y"
      },
      "source": [
        ""
      ]
    },
    {
      "cell_type": "code",
      "execution_count": null,
      "metadata": {
        "colab": {
          "base_uri": "https://localhost:8080/"
        },
        "id": "S26WGRb9R5_l",
        "outputId": "93b24001-441b-4866-faea-11ef4fcaf0f0"
      },
      "outputs": [
        {
          "output_type": "stream",
          "name": "stdout",
          "text": [
            "Drive already mounted at /content/drive; to attempt to forcibly remount, call drive.mount(\"/content/drive\", force_remount=True).\n"
          ]
        }
      ],
      "source": [
        "from google.colab import drive\n",
        "drive.mount('/content/drive')"
      ]
    },
    {
      "cell_type": "code",
      "execution_count": null,
      "metadata": {
        "colab": {
          "base_uri": "https://localhost:8080/"
        },
        "id": "L9NBgFOw5AKa",
        "outputId": "b19c7c21-9b27-4720-9c53-ad702715a7e3"
      },
      "outputs": [
        {
          "name": "stdout",
          "output_type": "stream",
          "text": [
            "Looking in indexes: https://pypi.org/simple, https://us-python.pkg.dev/colab-wheels/public/simple/\n",
            "Collecting mediapipe\n",
            "  Downloading mediapipe-0.8.10-cp37-cp37m-manylinux_2_17_x86_64.manylinux2014_x86_64.whl (32.8 MB)\n",
            "\u001b[K     |████████████████████████████████| 32.8 MB 1.4 MB/s \n",
            "\u001b[?25hRequirement already satisfied: protobuf>=3.11.4 in /usr/local/lib/python3.7/dist-packages (from mediapipe) (3.17.3)\n",
            "Requirement already satisfied: numpy in /usr/local/lib/python3.7/dist-packages (from mediapipe) (1.21.6)\n",
            "Requirement already satisfied: matplotlib in /usr/local/lib/python3.7/dist-packages (from mediapipe) (3.2.2)\n",
            "Requirement already satisfied: opencv-contrib-python in /usr/local/lib/python3.7/dist-packages (from mediapipe) (4.1.2.30)\n",
            "Requirement already satisfied: absl-py in /usr/local/lib/python3.7/dist-packages (from mediapipe) (1.1.0)\n",
            "Requirement already satisfied: attrs>=19.1.0 in /usr/local/lib/python3.7/dist-packages (from mediapipe) (21.4.0)\n",
            "Requirement already satisfied: six>=1.9 in /usr/local/lib/python3.7/dist-packages (from protobuf>=3.11.4->mediapipe) (1.15.0)\n",
            "Requirement already satisfied: kiwisolver>=1.0.1 in /usr/local/lib/python3.7/dist-packages (from matplotlib->mediapipe) (1.4.2)\n",
            "Requirement already satisfied: pyparsing!=2.0.4,!=2.1.2,!=2.1.6,>=2.0.1 in /usr/local/lib/python3.7/dist-packages (from matplotlib->mediapipe) (3.0.9)\n",
            "Requirement already satisfied: cycler>=0.10 in /usr/local/lib/python3.7/dist-packages (from matplotlib->mediapipe) (0.11.0)\n",
            "Requirement already satisfied: python-dateutil>=2.1 in /usr/local/lib/python3.7/dist-packages (from matplotlib->mediapipe) (2.8.2)\n",
            "Requirement already satisfied: typing-extensions in /usr/local/lib/python3.7/dist-packages (from kiwisolver>=1.0.1->matplotlib->mediapipe) (4.2.0)\n",
            "Installing collected packages: mediapipe\n",
            "Successfully installed mediapipe-0.8.10\n"
          ]
        }
      ],
      "source": [
        "!pip install mediapipe"
      ]
    },
    {
      "cell_type": "code",
      "execution_count": 3,
      "metadata": {
        "id": "JQ5ENO_X40-_"
      },
      "outputs": [],
      "source": [
        "import os,cv2,math,glob,random\n",
        "import scipy.io as sio\n",
        "from math import cos, sin\n",
        "from pathlib import Path\n",
        "import mediapipe\n",
        "import scipy.io as sio\n",
        "from math import cos, sin\n",
        "from pathlib import Path\n",
        "import mediapipe as mp\n",
        "import warnings\n",
        "warnings.filterwarnings('ignore')\n",
        "from google.colab.patches import cv2_imshow"
      ]
    },
    {
      "cell_type": "markdown",
      "metadata": {
        "id": "7SWUbTDgFIBt"
      },
      "source": [
        "## Steps:\n",
        "1- create train set:\n",
        "  - for loop on each image -> extract landmarks -> **features** using dlib AND Convert images to (Yaw, Pitch, Roll) using formula (from Asmaa) -> **label**\n",
        "\n",
        "\n",
        "- Read images dataset , processed dataset\n",
        "<!-- - Use dlib -> extract keypoint -> train  (68 points/features) -->\n",
        "- Feature engineering on keypoints\n",
        "- Train models \n",
        "- output -> x, y, x, Yaw, pitch, Roll\n"
      ]
    },
    {
      "cell_type": "markdown",
      "metadata": {
        "id": "C7-g3EsdgT3F"
      },
      "source": [
        "## Read Dataset"
      ]
    },
    {
      "cell_type": "code",
      "execution_count": 4,
      "metadata": {
        "id": "VA8VLda-QAeY"
      },
      "outputs": [],
      "source": [
        "data = pd.read_csv('/content/drive/MyDrive/ITI/Projects/Gaze Estimation - ml1 project/fatima_features.csv')"
      ]
    },
    {
      "cell_type": "code",
      "execution_count": 5,
      "metadata": {
        "colab": {
          "base_uri": "https://localhost:8080/",
          "height": 505
        },
        "id": "FDj53D_nWg4r",
        "outputId": "ce1ab42f-d949-4e61-a14c-fa591b2129c4"
      },
      "outputs": [
        {
          "output_type": "execute_result",
          "data": {
            "text/plain": [
              "      Unnamed: 0              ID        F1        F2        F3        F4  \\\n",
              "0              0  image00002.jpg  0.485651  0.686890  0.489194  0.639721   \n",
              "1              1  image00004.jpg  0.441502  0.642091  0.417273  0.592251   \n",
              "2              2  image00006.jpg  0.317797  0.799190  0.321328  0.776498   \n",
              "3              3  image00008.jpg  0.503922  0.694309  0.469521  0.653913   \n",
              "4              4  image00013.jpg  0.510238  0.669038  0.492729  0.604797   \n",
              "...          ...             ...       ...       ...       ...       ...   \n",
              "1848        1848  image04345.jpg  0.515443  0.683951  0.532837  0.625785   \n",
              "1849        1849  image04348.jpg  0.543907  0.689844  0.565286  0.635285   \n",
              "1850        1850  image04356.jpg  0.586373  0.680103  0.604407  0.627700   \n",
              "1851        1851  image04358.jpg  0.491617  0.692910  0.500626  0.637631   \n",
              "1852        1852  image04375.jpg  0.515707  0.673331  0.513754  0.606096   \n",
              "\n",
              "            F5        F6        F7        F8  ...      F930      F931  \\\n",
              "0     0.489802  0.647256  0.479730  0.562529  ...  0.492813  0.541429   \n",
              "1     0.448839  0.610546  0.435994  0.545069  ...  0.511724  0.500658   \n",
              "2     0.318316  0.782066  0.311064  0.745973  ...  0.720868  0.328639   \n",
              "3     0.489504  0.658751  0.444433  0.590285  ...  0.510606  0.490586   \n",
              "4     0.499756  0.624468  0.467368  0.542362  ...  0.488652  0.505667   \n",
              "...        ...       ...       ...       ...  ...       ...       ...   \n",
              "1848  0.518815  0.639885  0.511650  0.560010  ...  0.503230  0.540073   \n",
              "1849  0.549289  0.646834  0.545585  0.562769  ...  0.500254  0.574974   \n",
              "1850  0.593793  0.645848  0.602947  0.568153  ...  0.539478  0.648903   \n",
              "1851  0.497282  0.649833  0.490064  0.559349  ...  0.496594  0.550279   \n",
              "1852  0.512893  0.628820  0.495606  0.538721  ...  0.495342  0.534845   \n",
              "\n",
              "          F932      F933      F934      F935      F936     Pitch       Yaw  \\\n",
              "0     0.500371  0.665668  0.471336  0.676091  0.464005 -0.399231  0.018227   \n",
              "1     0.514913  0.584451  0.500244  0.594060  0.495387  0.470065  1.189533   \n",
              "2     0.723342  0.373404  0.713071  0.377643  0.709798 -0.184650  0.881137   \n",
              "3     0.518652  0.595615  0.455611  0.602670  0.444623 -0.175379  0.299208   \n",
              "4     0.492681  0.602484  0.452699  0.611310  0.448576 -0.026812  0.011965   \n",
              "...        ...       ...       ...       ...       ...       ...       ...   \n",
              "1848  0.508401  0.629060  0.479723  0.635765  0.474628 -0.306358 -0.283822   \n",
              "1849  0.506460  0.659800  0.479817  0.667754  0.470887 -0.367547 -0.429723   \n",
              "1850  0.541426  0.734017  0.547668  0.743284  0.540139 -0.156035  0.567114   \n",
              "1851  0.502602  0.673963  0.481876  0.684592  0.474287 -0.197102 -0.070430   \n",
              "1852  0.497648  0.629058  0.480840  0.639052  0.472855 -0.015552 -0.180126   \n",
              "\n",
              "          Roll  \n",
              "0     0.085676  \n",
              "1     0.300959  \n",
              "2    -0.236852  \n",
              "3    -0.373374  \n",
              "4    -0.220662  \n",
              "...        ...  \n",
              "1848  0.038554  \n",
              "1849  0.122791  \n",
              "1850 -0.108536  \n",
              "1851  0.105118  \n",
              "1852 -0.024546  \n",
              "\n",
              "[1853 rows x 941 columns]"
            ],
            "text/html": [
              "\n",
              "  <div id=\"df-02f421aa-30b6-4c0e-b6b1-0851079b2fa7\">\n",
              "    <div class=\"colab-df-container\">\n",
              "      <div>\n",
              "<style scoped>\n",
              "    .dataframe tbody tr th:only-of-type {\n",
              "        vertical-align: middle;\n",
              "    }\n",
              "\n",
              "    .dataframe tbody tr th {\n",
              "        vertical-align: top;\n",
              "    }\n",
              "\n",
              "    .dataframe thead th {\n",
              "        text-align: right;\n",
              "    }\n",
              "</style>\n",
              "<table border=\"1\" class=\"dataframe\">\n",
              "  <thead>\n",
              "    <tr style=\"text-align: right;\">\n",
              "      <th></th>\n",
              "      <th>Unnamed: 0</th>\n",
              "      <th>ID</th>\n",
              "      <th>F1</th>\n",
              "      <th>F2</th>\n",
              "      <th>F3</th>\n",
              "      <th>F4</th>\n",
              "      <th>F5</th>\n",
              "      <th>F6</th>\n",
              "      <th>F7</th>\n",
              "      <th>F8</th>\n",
              "      <th>...</th>\n",
              "      <th>F930</th>\n",
              "      <th>F931</th>\n",
              "      <th>F932</th>\n",
              "      <th>F933</th>\n",
              "      <th>F934</th>\n",
              "      <th>F935</th>\n",
              "      <th>F936</th>\n",
              "      <th>Pitch</th>\n",
              "      <th>Yaw</th>\n",
              "      <th>Roll</th>\n",
              "    </tr>\n",
              "  </thead>\n",
              "  <tbody>\n",
              "    <tr>\n",
              "      <th>0</th>\n",
              "      <td>0</td>\n",
              "      <td>image00002.jpg</td>\n",
              "      <td>0.485651</td>\n",
              "      <td>0.686890</td>\n",
              "      <td>0.489194</td>\n",
              "      <td>0.639721</td>\n",
              "      <td>0.489802</td>\n",
              "      <td>0.647256</td>\n",
              "      <td>0.479730</td>\n",
              "      <td>0.562529</td>\n",
              "      <td>...</td>\n",
              "      <td>0.492813</td>\n",
              "      <td>0.541429</td>\n",
              "      <td>0.500371</td>\n",
              "      <td>0.665668</td>\n",
              "      <td>0.471336</td>\n",
              "      <td>0.676091</td>\n",
              "      <td>0.464005</td>\n",
              "      <td>-0.399231</td>\n",
              "      <td>0.018227</td>\n",
              "      <td>0.085676</td>\n",
              "    </tr>\n",
              "    <tr>\n",
              "      <th>1</th>\n",
              "      <td>1</td>\n",
              "      <td>image00004.jpg</td>\n",
              "      <td>0.441502</td>\n",
              "      <td>0.642091</td>\n",
              "      <td>0.417273</td>\n",
              "      <td>0.592251</td>\n",
              "      <td>0.448839</td>\n",
              "      <td>0.610546</td>\n",
              "      <td>0.435994</td>\n",
              "      <td>0.545069</td>\n",
              "      <td>...</td>\n",
              "      <td>0.511724</td>\n",
              "      <td>0.500658</td>\n",
              "      <td>0.514913</td>\n",
              "      <td>0.584451</td>\n",
              "      <td>0.500244</td>\n",
              "      <td>0.594060</td>\n",
              "      <td>0.495387</td>\n",
              "      <td>0.470065</td>\n",
              "      <td>1.189533</td>\n",
              "      <td>0.300959</td>\n",
              "    </tr>\n",
              "    <tr>\n",
              "      <th>2</th>\n",
              "      <td>2</td>\n",
              "      <td>image00006.jpg</td>\n",
              "      <td>0.317797</td>\n",
              "      <td>0.799190</td>\n",
              "      <td>0.321328</td>\n",
              "      <td>0.776498</td>\n",
              "      <td>0.318316</td>\n",
              "      <td>0.782066</td>\n",
              "      <td>0.311064</td>\n",
              "      <td>0.745973</td>\n",
              "      <td>...</td>\n",
              "      <td>0.720868</td>\n",
              "      <td>0.328639</td>\n",
              "      <td>0.723342</td>\n",
              "      <td>0.373404</td>\n",
              "      <td>0.713071</td>\n",
              "      <td>0.377643</td>\n",
              "      <td>0.709798</td>\n",
              "      <td>-0.184650</td>\n",
              "      <td>0.881137</td>\n",
              "      <td>-0.236852</td>\n",
              "    </tr>\n",
              "    <tr>\n",
              "      <th>3</th>\n",
              "      <td>3</td>\n",
              "      <td>image00008.jpg</td>\n",
              "      <td>0.503922</td>\n",
              "      <td>0.694309</td>\n",
              "      <td>0.469521</td>\n",
              "      <td>0.653913</td>\n",
              "      <td>0.489504</td>\n",
              "      <td>0.658751</td>\n",
              "      <td>0.444433</td>\n",
              "      <td>0.590285</td>\n",
              "      <td>...</td>\n",
              "      <td>0.510606</td>\n",
              "      <td>0.490586</td>\n",
              "      <td>0.518652</td>\n",
              "      <td>0.595615</td>\n",
              "      <td>0.455611</td>\n",
              "      <td>0.602670</td>\n",
              "      <td>0.444623</td>\n",
              "      <td>-0.175379</td>\n",
              "      <td>0.299208</td>\n",
              "      <td>-0.373374</td>\n",
              "    </tr>\n",
              "    <tr>\n",
              "      <th>4</th>\n",
              "      <td>4</td>\n",
              "      <td>image00013.jpg</td>\n",
              "      <td>0.510238</td>\n",
              "      <td>0.669038</td>\n",
              "      <td>0.492729</td>\n",
              "      <td>0.604797</td>\n",
              "      <td>0.499756</td>\n",
              "      <td>0.624468</td>\n",
              "      <td>0.467368</td>\n",
              "      <td>0.542362</td>\n",
              "      <td>...</td>\n",
              "      <td>0.488652</td>\n",
              "      <td>0.505667</td>\n",
              "      <td>0.492681</td>\n",
              "      <td>0.602484</td>\n",
              "      <td>0.452699</td>\n",
              "      <td>0.611310</td>\n",
              "      <td>0.448576</td>\n",
              "      <td>-0.026812</td>\n",
              "      <td>0.011965</td>\n",
              "      <td>-0.220662</td>\n",
              "    </tr>\n",
              "    <tr>\n",
              "      <th>...</th>\n",
              "      <td>...</td>\n",
              "      <td>...</td>\n",
              "      <td>...</td>\n",
              "      <td>...</td>\n",
              "      <td>...</td>\n",
              "      <td>...</td>\n",
              "      <td>...</td>\n",
              "      <td>...</td>\n",
              "      <td>...</td>\n",
              "      <td>...</td>\n",
              "      <td>...</td>\n",
              "      <td>...</td>\n",
              "      <td>...</td>\n",
              "      <td>...</td>\n",
              "      <td>...</td>\n",
              "      <td>...</td>\n",
              "      <td>...</td>\n",
              "      <td>...</td>\n",
              "      <td>...</td>\n",
              "      <td>...</td>\n",
              "      <td>...</td>\n",
              "    </tr>\n",
              "    <tr>\n",
              "      <th>1848</th>\n",
              "      <td>1848</td>\n",
              "      <td>image04345.jpg</td>\n",
              "      <td>0.515443</td>\n",
              "      <td>0.683951</td>\n",
              "      <td>0.532837</td>\n",
              "      <td>0.625785</td>\n",
              "      <td>0.518815</td>\n",
              "      <td>0.639885</td>\n",
              "      <td>0.511650</td>\n",
              "      <td>0.560010</td>\n",
              "      <td>...</td>\n",
              "      <td>0.503230</td>\n",
              "      <td>0.540073</td>\n",
              "      <td>0.508401</td>\n",
              "      <td>0.629060</td>\n",
              "      <td>0.479723</td>\n",
              "      <td>0.635765</td>\n",
              "      <td>0.474628</td>\n",
              "      <td>-0.306358</td>\n",
              "      <td>-0.283822</td>\n",
              "      <td>0.038554</td>\n",
              "    </tr>\n",
              "    <tr>\n",
              "      <th>1849</th>\n",
              "      <td>1849</td>\n",
              "      <td>image04348.jpg</td>\n",
              "      <td>0.543907</td>\n",
              "      <td>0.689844</td>\n",
              "      <td>0.565286</td>\n",
              "      <td>0.635285</td>\n",
              "      <td>0.549289</td>\n",
              "      <td>0.646834</td>\n",
              "      <td>0.545585</td>\n",
              "      <td>0.562769</td>\n",
              "      <td>...</td>\n",
              "      <td>0.500254</td>\n",
              "      <td>0.574974</td>\n",
              "      <td>0.506460</td>\n",
              "      <td>0.659800</td>\n",
              "      <td>0.479817</td>\n",
              "      <td>0.667754</td>\n",
              "      <td>0.470887</td>\n",
              "      <td>-0.367547</td>\n",
              "      <td>-0.429723</td>\n",
              "      <td>0.122791</td>\n",
              "    </tr>\n",
              "    <tr>\n",
              "      <th>1850</th>\n",
              "      <td>1850</td>\n",
              "      <td>image04356.jpg</td>\n",
              "      <td>0.586373</td>\n",
              "      <td>0.680103</td>\n",
              "      <td>0.604407</td>\n",
              "      <td>0.627700</td>\n",
              "      <td>0.593793</td>\n",
              "      <td>0.645848</td>\n",
              "      <td>0.602947</td>\n",
              "      <td>0.568153</td>\n",
              "      <td>...</td>\n",
              "      <td>0.539478</td>\n",
              "      <td>0.648903</td>\n",
              "      <td>0.541426</td>\n",
              "      <td>0.734017</td>\n",
              "      <td>0.547668</td>\n",
              "      <td>0.743284</td>\n",
              "      <td>0.540139</td>\n",
              "      <td>-0.156035</td>\n",
              "      <td>0.567114</td>\n",
              "      <td>-0.108536</td>\n",
              "    </tr>\n",
              "    <tr>\n",
              "      <th>1851</th>\n",
              "      <td>1851</td>\n",
              "      <td>image04358.jpg</td>\n",
              "      <td>0.491617</td>\n",
              "      <td>0.692910</td>\n",
              "      <td>0.500626</td>\n",
              "      <td>0.637631</td>\n",
              "      <td>0.497282</td>\n",
              "      <td>0.649833</td>\n",
              "      <td>0.490064</td>\n",
              "      <td>0.559349</td>\n",
              "      <td>...</td>\n",
              "      <td>0.496594</td>\n",
              "      <td>0.550279</td>\n",
              "      <td>0.502602</td>\n",
              "      <td>0.673963</td>\n",
              "      <td>0.481876</td>\n",
              "      <td>0.684592</td>\n",
              "      <td>0.474287</td>\n",
              "      <td>-0.197102</td>\n",
              "      <td>-0.070430</td>\n",
              "      <td>0.105118</td>\n",
              "    </tr>\n",
              "    <tr>\n",
              "      <th>1852</th>\n",
              "      <td>1852</td>\n",
              "      <td>image04375.jpg</td>\n",
              "      <td>0.515707</td>\n",
              "      <td>0.673331</td>\n",
              "      <td>0.513754</td>\n",
              "      <td>0.606096</td>\n",
              "      <td>0.512893</td>\n",
              "      <td>0.628820</td>\n",
              "      <td>0.495606</td>\n",
              "      <td>0.538721</td>\n",
              "      <td>...</td>\n",
              "      <td>0.495342</td>\n",
              "      <td>0.534845</td>\n",
              "      <td>0.497648</td>\n",
              "      <td>0.629058</td>\n",
              "      <td>0.480840</td>\n",
              "      <td>0.639052</td>\n",
              "      <td>0.472855</td>\n",
              "      <td>-0.015552</td>\n",
              "      <td>-0.180126</td>\n",
              "      <td>-0.024546</td>\n",
              "    </tr>\n",
              "  </tbody>\n",
              "</table>\n",
              "<p>1853 rows × 941 columns</p>\n",
              "</div>\n",
              "      <button class=\"colab-df-convert\" onclick=\"convertToInteractive('df-02f421aa-30b6-4c0e-b6b1-0851079b2fa7')\"\n",
              "              title=\"Convert this dataframe to an interactive table.\"\n",
              "              style=\"display:none;\">\n",
              "        \n",
              "  <svg xmlns=\"http://www.w3.org/2000/svg\" height=\"24px\"viewBox=\"0 0 24 24\"\n",
              "       width=\"24px\">\n",
              "    <path d=\"M0 0h24v24H0V0z\" fill=\"none\"/>\n",
              "    <path d=\"M18.56 5.44l.94 2.06.94-2.06 2.06-.94-2.06-.94-.94-2.06-.94 2.06-2.06.94zm-11 1L8.5 8.5l.94-2.06 2.06-.94-2.06-.94L8.5 2.5l-.94 2.06-2.06.94zm10 10l.94 2.06.94-2.06 2.06-.94-2.06-.94-.94-2.06-.94 2.06-2.06.94z\"/><path d=\"M17.41 7.96l-1.37-1.37c-.4-.4-.92-.59-1.43-.59-.52 0-1.04.2-1.43.59L10.3 9.45l-7.72 7.72c-.78.78-.78 2.05 0 2.83L4 21.41c.39.39.9.59 1.41.59.51 0 1.02-.2 1.41-.59l7.78-7.78 2.81-2.81c.8-.78.8-2.07 0-2.86zM5.41 20L4 18.59l7.72-7.72 1.47 1.35L5.41 20z\"/>\n",
              "  </svg>\n",
              "      </button>\n",
              "      \n",
              "  <style>\n",
              "    .colab-df-container {\n",
              "      display:flex;\n",
              "      flex-wrap:wrap;\n",
              "      gap: 12px;\n",
              "    }\n",
              "\n",
              "    .colab-df-convert {\n",
              "      background-color: #E8F0FE;\n",
              "      border: none;\n",
              "      border-radius: 50%;\n",
              "      cursor: pointer;\n",
              "      display: none;\n",
              "      fill: #1967D2;\n",
              "      height: 32px;\n",
              "      padding: 0 0 0 0;\n",
              "      width: 32px;\n",
              "    }\n",
              "\n",
              "    .colab-df-convert:hover {\n",
              "      background-color: #E2EBFA;\n",
              "      box-shadow: 0px 1px 2px rgba(60, 64, 67, 0.3), 0px 1px 3px 1px rgba(60, 64, 67, 0.15);\n",
              "      fill: #174EA6;\n",
              "    }\n",
              "\n",
              "    [theme=dark] .colab-df-convert {\n",
              "      background-color: #3B4455;\n",
              "      fill: #D2E3FC;\n",
              "    }\n",
              "\n",
              "    [theme=dark] .colab-df-convert:hover {\n",
              "      background-color: #434B5C;\n",
              "      box-shadow: 0px 1px 3px 1px rgba(0, 0, 0, 0.15);\n",
              "      filter: drop-shadow(0px 1px 2px rgba(0, 0, 0, 0.3));\n",
              "      fill: #FFFFFF;\n",
              "    }\n",
              "  </style>\n",
              "\n",
              "      <script>\n",
              "        const buttonEl =\n",
              "          document.querySelector('#df-02f421aa-30b6-4c0e-b6b1-0851079b2fa7 button.colab-df-convert');\n",
              "        buttonEl.style.display =\n",
              "          google.colab.kernel.accessAllowed ? 'block' : 'none';\n",
              "\n",
              "        async function convertToInteractive(key) {\n",
              "          const element = document.querySelector('#df-02f421aa-30b6-4c0e-b6b1-0851079b2fa7');\n",
              "          const dataTable =\n",
              "            await google.colab.kernel.invokeFunction('convertToInteractive',\n",
              "                                                     [key], {});\n",
              "          if (!dataTable) return;\n",
              "\n",
              "          const docLinkHtml = 'Like what you see? Visit the ' +\n",
              "            '<a target=\"_blank\" href=https://colab.research.google.com/notebooks/data_table.ipynb>data table notebook</a>'\n",
              "            + ' to learn more about interactive tables.';\n",
              "          element.innerHTML = '';\n",
              "          dataTable['output_type'] = 'display_data';\n",
              "          await google.colab.output.renderOutput(dataTable, element);\n",
              "          const docLink = document.createElement('div');\n",
              "          docLink.innerHTML = docLinkHtml;\n",
              "          element.appendChild(docLink);\n",
              "        }\n",
              "      </script>\n",
              "    </div>\n",
              "  </div>\n",
              "  "
            ]
          },
          "metadata": {},
          "execution_count": 5
        }
      ],
      "source": [
        "data"
      ]
    },
    {
      "cell_type": "markdown",
      "metadata": {
        "id": "LKmnExYAc-qG"
      },
      "source": [
        "## EDA\n",
        "- Find duplicates\n",
        "- Find Nulls\n"
      ]
    },
    {
      "cell_type": "markdown",
      "metadata": {
        "id": "pjzt-F2OdGjU"
      },
      "source": [
        "No duplicates in the dataset"
      ]
    },
    {
      "cell_type": "code",
      "execution_count": null,
      "metadata": {
        "colab": {
          "base_uri": "https://localhost:8080/"
        },
        "id": "kxCs44kZdAGP",
        "outputId": "2fcf53fd-db35-4c84-891a-a4950298873a"
      },
      "outputs": [
        {
          "output_type": "execute_result",
          "data": {
            "text/plain": [
              "0"
            ]
          },
          "metadata": {},
          "execution_count": 5
        }
      ],
      "source": [
        "data.duplicated().sum()"
      ]
    },
    {
      "cell_type": "markdown",
      "metadata": {
        "id": "BgSSw2aWdKhr"
      },
      "source": [
        "dataset statistic info"
      ]
    },
    {
      "cell_type": "code",
      "execution_count": null,
      "metadata": {
        "colab": {
          "base_uri": "https://localhost:8080/"
        },
        "id": "IqPRcuAqdM85",
        "outputId": "274e52d0-70d5-4316-8653-d543a212ed44"
      },
      "outputs": [
        {
          "output_type": "execute_result",
          "data": {
            "text/plain": [
              "        Unnamed: 0           F1           F2           F3           F4  \\\n",
              "count  1853.000000  1853.000000  1853.000000  1853.000000  1853.000000   \n",
              "mean    926.000000     0.505036     0.666149     0.503698     0.611075   \n",
              "std     535.059343     0.041261     0.028346     0.053271     0.029041   \n",
              "min       0.000000     0.256906     0.179093     0.227159     0.144636   \n",
              "25%     463.000000     0.482141     0.652247     0.469521     0.598221   \n",
              "50%     926.000000     0.505162     0.668768     0.501536     0.614621   \n",
              "75%    1389.000000     0.526248     0.682794     0.537543     0.627792   \n",
              "max    1852.000000     0.928491     0.799190     0.929157     0.776498   \n",
              "\n",
              "                F5           F6           F7           F8           F9  ...  \\\n",
              "count  1853.000000  1853.000000  1853.000000  1853.000000  1853.000000  ...   \n",
              "mean      0.504510     0.627596     0.490213     0.550968     0.503416  ...   \n",
              "std       0.037840     0.024675     0.044587     0.023908     0.054824  ...   \n",
              "min       0.249772     0.152404     0.222207     0.100594     0.223030  ...   \n",
              "25%       0.481937     0.617026     0.460069     0.540801     0.466724  ...   \n",
              "50%       0.503587     0.629840     0.485371     0.552197     0.501211  ...   \n",
              "75%       0.525717     0.641242     0.516599     0.562998     0.538674  ...   \n",
              "max       0.923774     0.782066     0.901552     0.745973     0.926027  ...   \n",
              "\n",
              "              F930         F931         F932         F933         F934  \\\n",
              "count  1853.000000  1853.000000  1853.000000  1853.000000  1853.000000   \n",
              "mean      0.503258     0.530948     0.507431     0.621081     0.485716   \n",
              "std       0.023010     0.033922     0.022426     0.047496     0.038984   \n",
              "min       0.055864     0.266672     0.060640     0.304541     0.032022   \n",
              "25%       0.491350     0.514206     0.496217     0.593103     0.463229   \n",
              "50%       0.502106     0.532342     0.506317     0.626023     0.485355   \n",
              "75%       0.513950     0.546662     0.517966     0.650143     0.506548   \n",
              "max       0.720868     0.908686     0.723342     0.990572     0.741343   \n",
              "\n",
              "              F935         F936        Pitch          Yaw         Roll  \n",
              "count  1853.000000  1853.000000  1853.000000  1853.000000  1853.000000  \n",
              "mean      0.629547     0.478221    -0.095366     0.013611    -0.033167  \n",
              "std       0.050135     0.041212     0.549292     0.580266     0.649282  \n",
              "min       0.294275     0.024076   -12.457202    -6.130066   -16.969362  \n",
              "25%       0.601160     0.454632    -0.246453    -0.256714    -0.160274  \n",
              "50%       0.635011     0.477745    -0.123371     0.019403    -0.017463  \n",
              "75%       0.660787     0.499799     0.028133     0.305791     0.126460  \n",
              "max       0.998658     0.750775    15.598820     3.277500     2.166107  \n",
              "\n",
              "[8 rows x 940 columns]"
            ],
            "text/html": [
              "\n",
              "  <div id=\"df-a05a0600-ffb3-47b9-a697-bd8a5763d1cf\">\n",
              "    <div class=\"colab-df-container\">\n",
              "      <div>\n",
              "<style scoped>\n",
              "    .dataframe tbody tr th:only-of-type {\n",
              "        vertical-align: middle;\n",
              "    }\n",
              "\n",
              "    .dataframe tbody tr th {\n",
              "        vertical-align: top;\n",
              "    }\n",
              "\n",
              "    .dataframe thead th {\n",
              "        text-align: right;\n",
              "    }\n",
              "</style>\n",
              "<table border=\"1\" class=\"dataframe\">\n",
              "  <thead>\n",
              "    <tr style=\"text-align: right;\">\n",
              "      <th></th>\n",
              "      <th>Unnamed: 0</th>\n",
              "      <th>F1</th>\n",
              "      <th>F2</th>\n",
              "      <th>F3</th>\n",
              "      <th>F4</th>\n",
              "      <th>F5</th>\n",
              "      <th>F6</th>\n",
              "      <th>F7</th>\n",
              "      <th>F8</th>\n",
              "      <th>F9</th>\n",
              "      <th>...</th>\n",
              "      <th>F930</th>\n",
              "      <th>F931</th>\n",
              "      <th>F932</th>\n",
              "      <th>F933</th>\n",
              "      <th>F934</th>\n",
              "      <th>F935</th>\n",
              "      <th>F936</th>\n",
              "      <th>Pitch</th>\n",
              "      <th>Yaw</th>\n",
              "      <th>Roll</th>\n",
              "    </tr>\n",
              "  </thead>\n",
              "  <tbody>\n",
              "    <tr>\n",
              "      <th>count</th>\n",
              "      <td>1853.000000</td>\n",
              "      <td>1853.000000</td>\n",
              "      <td>1853.000000</td>\n",
              "      <td>1853.000000</td>\n",
              "      <td>1853.000000</td>\n",
              "      <td>1853.000000</td>\n",
              "      <td>1853.000000</td>\n",
              "      <td>1853.000000</td>\n",
              "      <td>1853.000000</td>\n",
              "      <td>1853.000000</td>\n",
              "      <td>...</td>\n",
              "      <td>1853.000000</td>\n",
              "      <td>1853.000000</td>\n",
              "      <td>1853.000000</td>\n",
              "      <td>1853.000000</td>\n",
              "      <td>1853.000000</td>\n",
              "      <td>1853.000000</td>\n",
              "      <td>1853.000000</td>\n",
              "      <td>1853.000000</td>\n",
              "      <td>1853.000000</td>\n",
              "      <td>1853.000000</td>\n",
              "    </tr>\n",
              "    <tr>\n",
              "      <th>mean</th>\n",
              "      <td>926.000000</td>\n",
              "      <td>0.505036</td>\n",
              "      <td>0.666149</td>\n",
              "      <td>0.503698</td>\n",
              "      <td>0.611075</td>\n",
              "      <td>0.504510</td>\n",
              "      <td>0.627596</td>\n",
              "      <td>0.490213</td>\n",
              "      <td>0.550968</td>\n",
              "      <td>0.503416</td>\n",
              "      <td>...</td>\n",
              "      <td>0.503258</td>\n",
              "      <td>0.530948</td>\n",
              "      <td>0.507431</td>\n",
              "      <td>0.621081</td>\n",
              "      <td>0.485716</td>\n",
              "      <td>0.629547</td>\n",
              "      <td>0.478221</td>\n",
              "      <td>-0.095366</td>\n",
              "      <td>0.013611</td>\n",
              "      <td>-0.033167</td>\n",
              "    </tr>\n",
              "    <tr>\n",
              "      <th>std</th>\n",
              "      <td>535.059343</td>\n",
              "      <td>0.041261</td>\n",
              "      <td>0.028346</td>\n",
              "      <td>0.053271</td>\n",
              "      <td>0.029041</td>\n",
              "      <td>0.037840</td>\n",
              "      <td>0.024675</td>\n",
              "      <td>0.044587</td>\n",
              "      <td>0.023908</td>\n",
              "      <td>0.054824</td>\n",
              "      <td>...</td>\n",
              "      <td>0.023010</td>\n",
              "      <td>0.033922</td>\n",
              "      <td>0.022426</td>\n",
              "      <td>0.047496</td>\n",
              "      <td>0.038984</td>\n",
              "      <td>0.050135</td>\n",
              "      <td>0.041212</td>\n",
              "      <td>0.549292</td>\n",
              "      <td>0.580266</td>\n",
              "      <td>0.649282</td>\n",
              "    </tr>\n",
              "    <tr>\n",
              "      <th>min</th>\n",
              "      <td>0.000000</td>\n",
              "      <td>0.256906</td>\n",
              "      <td>0.179093</td>\n",
              "      <td>0.227159</td>\n",
              "      <td>0.144636</td>\n",
              "      <td>0.249772</td>\n",
              "      <td>0.152404</td>\n",
              "      <td>0.222207</td>\n",
              "      <td>0.100594</td>\n",
              "      <td>0.223030</td>\n",
              "      <td>...</td>\n",
              "      <td>0.055864</td>\n",
              "      <td>0.266672</td>\n",
              "      <td>0.060640</td>\n",
              "      <td>0.304541</td>\n",
              "      <td>0.032022</td>\n",
              "      <td>0.294275</td>\n",
              "      <td>0.024076</td>\n",
              "      <td>-12.457202</td>\n",
              "      <td>-6.130066</td>\n",
              "      <td>-16.969362</td>\n",
              "    </tr>\n",
              "    <tr>\n",
              "      <th>25%</th>\n",
              "      <td>463.000000</td>\n",
              "      <td>0.482141</td>\n",
              "      <td>0.652247</td>\n",
              "      <td>0.469521</td>\n",
              "      <td>0.598221</td>\n",
              "      <td>0.481937</td>\n",
              "      <td>0.617026</td>\n",
              "      <td>0.460069</td>\n",
              "      <td>0.540801</td>\n",
              "      <td>0.466724</td>\n",
              "      <td>...</td>\n",
              "      <td>0.491350</td>\n",
              "      <td>0.514206</td>\n",
              "      <td>0.496217</td>\n",
              "      <td>0.593103</td>\n",
              "      <td>0.463229</td>\n",
              "      <td>0.601160</td>\n",
              "      <td>0.454632</td>\n",
              "      <td>-0.246453</td>\n",
              "      <td>-0.256714</td>\n",
              "      <td>-0.160274</td>\n",
              "    </tr>\n",
              "    <tr>\n",
              "      <th>50%</th>\n",
              "      <td>926.000000</td>\n",
              "      <td>0.505162</td>\n",
              "      <td>0.668768</td>\n",
              "      <td>0.501536</td>\n",
              "      <td>0.614621</td>\n",
              "      <td>0.503587</td>\n",
              "      <td>0.629840</td>\n",
              "      <td>0.485371</td>\n",
              "      <td>0.552197</td>\n",
              "      <td>0.501211</td>\n",
              "      <td>...</td>\n",
              "      <td>0.502106</td>\n",
              "      <td>0.532342</td>\n",
              "      <td>0.506317</td>\n",
              "      <td>0.626023</td>\n",
              "      <td>0.485355</td>\n",
              "      <td>0.635011</td>\n",
              "      <td>0.477745</td>\n",
              "      <td>-0.123371</td>\n",
              "      <td>0.019403</td>\n",
              "      <td>-0.017463</td>\n",
              "    </tr>\n",
              "    <tr>\n",
              "      <th>75%</th>\n",
              "      <td>1389.000000</td>\n",
              "      <td>0.526248</td>\n",
              "      <td>0.682794</td>\n",
              "      <td>0.537543</td>\n",
              "      <td>0.627792</td>\n",
              "      <td>0.525717</td>\n",
              "      <td>0.641242</td>\n",
              "      <td>0.516599</td>\n",
              "      <td>0.562998</td>\n",
              "      <td>0.538674</td>\n",
              "      <td>...</td>\n",
              "      <td>0.513950</td>\n",
              "      <td>0.546662</td>\n",
              "      <td>0.517966</td>\n",
              "      <td>0.650143</td>\n",
              "      <td>0.506548</td>\n",
              "      <td>0.660787</td>\n",
              "      <td>0.499799</td>\n",
              "      <td>0.028133</td>\n",
              "      <td>0.305791</td>\n",
              "      <td>0.126460</td>\n",
              "    </tr>\n",
              "    <tr>\n",
              "      <th>max</th>\n",
              "      <td>1852.000000</td>\n",
              "      <td>0.928491</td>\n",
              "      <td>0.799190</td>\n",
              "      <td>0.929157</td>\n",
              "      <td>0.776498</td>\n",
              "      <td>0.923774</td>\n",
              "      <td>0.782066</td>\n",
              "      <td>0.901552</td>\n",
              "      <td>0.745973</td>\n",
              "      <td>0.926027</td>\n",
              "      <td>...</td>\n",
              "      <td>0.720868</td>\n",
              "      <td>0.908686</td>\n",
              "      <td>0.723342</td>\n",
              "      <td>0.990572</td>\n",
              "      <td>0.741343</td>\n",
              "      <td>0.998658</td>\n",
              "      <td>0.750775</td>\n",
              "      <td>15.598820</td>\n",
              "      <td>3.277500</td>\n",
              "      <td>2.166107</td>\n",
              "    </tr>\n",
              "  </tbody>\n",
              "</table>\n",
              "<p>8 rows × 940 columns</p>\n",
              "</div>\n",
              "      <button class=\"colab-df-convert\" onclick=\"convertToInteractive('df-a05a0600-ffb3-47b9-a697-bd8a5763d1cf')\"\n",
              "              title=\"Convert this dataframe to an interactive table.\"\n",
              "              style=\"display:none;\">\n",
              "        \n",
              "  <svg xmlns=\"http://www.w3.org/2000/svg\" height=\"24px\"viewBox=\"0 0 24 24\"\n",
              "       width=\"24px\">\n",
              "    <path d=\"M0 0h24v24H0V0z\" fill=\"none\"/>\n",
              "    <path d=\"M18.56 5.44l.94 2.06.94-2.06 2.06-.94-2.06-.94-.94-2.06-.94 2.06-2.06.94zm-11 1L8.5 8.5l.94-2.06 2.06-.94-2.06-.94L8.5 2.5l-.94 2.06-2.06.94zm10 10l.94 2.06.94-2.06 2.06-.94-2.06-.94-.94-2.06-.94 2.06-2.06.94z\"/><path d=\"M17.41 7.96l-1.37-1.37c-.4-.4-.92-.59-1.43-.59-.52 0-1.04.2-1.43.59L10.3 9.45l-7.72 7.72c-.78.78-.78 2.05 0 2.83L4 21.41c.39.39.9.59 1.41.59.51 0 1.02-.2 1.41-.59l7.78-7.78 2.81-2.81c.8-.78.8-2.07 0-2.86zM5.41 20L4 18.59l7.72-7.72 1.47 1.35L5.41 20z\"/>\n",
              "  </svg>\n",
              "      </button>\n",
              "      \n",
              "  <style>\n",
              "    .colab-df-container {\n",
              "      display:flex;\n",
              "      flex-wrap:wrap;\n",
              "      gap: 12px;\n",
              "    }\n",
              "\n",
              "    .colab-df-convert {\n",
              "      background-color: #E8F0FE;\n",
              "      border: none;\n",
              "      border-radius: 50%;\n",
              "      cursor: pointer;\n",
              "      display: none;\n",
              "      fill: #1967D2;\n",
              "      height: 32px;\n",
              "      padding: 0 0 0 0;\n",
              "      width: 32px;\n",
              "    }\n",
              "\n",
              "    .colab-df-convert:hover {\n",
              "      background-color: #E2EBFA;\n",
              "      box-shadow: 0px 1px 2px rgba(60, 64, 67, 0.3), 0px 1px 3px 1px rgba(60, 64, 67, 0.15);\n",
              "      fill: #174EA6;\n",
              "    }\n",
              "\n",
              "    [theme=dark] .colab-df-convert {\n",
              "      background-color: #3B4455;\n",
              "      fill: #D2E3FC;\n",
              "    }\n",
              "\n",
              "    [theme=dark] .colab-df-convert:hover {\n",
              "      background-color: #434B5C;\n",
              "      box-shadow: 0px 1px 3px 1px rgba(0, 0, 0, 0.15);\n",
              "      filter: drop-shadow(0px 1px 2px rgba(0, 0, 0, 0.3));\n",
              "      fill: #FFFFFF;\n",
              "    }\n",
              "  </style>\n",
              "\n",
              "      <script>\n",
              "        const buttonEl =\n",
              "          document.querySelector('#df-a05a0600-ffb3-47b9-a697-bd8a5763d1cf button.colab-df-convert');\n",
              "        buttonEl.style.display =\n",
              "          google.colab.kernel.accessAllowed ? 'block' : 'none';\n",
              "\n",
              "        async function convertToInteractive(key) {\n",
              "          const element = document.querySelector('#df-a05a0600-ffb3-47b9-a697-bd8a5763d1cf');\n",
              "          const dataTable =\n",
              "            await google.colab.kernel.invokeFunction('convertToInteractive',\n",
              "                                                     [key], {});\n",
              "          if (!dataTable) return;\n",
              "\n",
              "          const docLinkHtml = 'Like what you see? Visit the ' +\n",
              "            '<a target=\"_blank\" href=https://colab.research.google.com/notebooks/data_table.ipynb>data table notebook</a>'\n",
              "            + ' to learn more about interactive tables.';\n",
              "          element.innerHTML = '';\n",
              "          dataTable['output_type'] = 'display_data';\n",
              "          await google.colab.output.renderOutput(dataTable, element);\n",
              "          const docLink = document.createElement('div');\n",
              "          docLink.innerHTML = docLinkHtml;\n",
              "          element.appendChild(docLink);\n",
              "        }\n",
              "      </script>\n",
              "    </div>\n",
              "  </div>\n",
              "  "
            ]
          },
          "metadata": {},
          "execution_count": 6
        }
      ],
      "source": [
        "data.describe()"
      ]
    },
    {
      "cell_type": "markdown",
      "metadata": {
        "id": "vN4JNqUed5cl"
      },
      "source": [
        "No null are found"
      ]
    },
    {
      "cell_type": "code",
      "execution_count": null,
      "metadata": {
        "colab": {
          "base_uri": "https://localhost:8080/"
        },
        "id": "pjBKYREcd4_K",
        "outputId": "dc0ff0d9-7a9d-4e7f-d8ae-5eb0fb3ad90d"
      },
      "outputs": [
        {
          "output_type": "stream",
          "name": "stdout",
          "text": [
            "<class 'pandas.core.frame.DataFrame'>\n",
            "RangeIndex: 1853 entries, 0 to 1852\n",
            "Columns: 941 entries, Unnamed: 0 to Roll\n",
            "dtypes: float64(939), int64(1), object(1)\n",
            "memory usage: 13.3+ MB\n"
          ]
        }
      ],
      "source": [
        "data.info()"
      ]
    },
    {
      "cell_type": "markdown",
      "metadata": {
        "id": "w63jyB_j48ex"
      },
      "source": [
        "---------------------------------------------------"
      ]
    },
    {
      "cell_type": "markdown",
      "metadata": {
        "id": "Dzbe7pf94sQ4"
      },
      "source": [
        "##  Data Preprocessing\n",
        "*   Normalize data using subtract from nose point (x2, y2) /minmax, robust, standarization\n"
      ]
    },
    {
      "cell_type": "markdown",
      "metadata": {
        "id": "PjAW0xiRgIFE"
      },
      "source": [
        "1- remove unneeded cols "
      ]
    },
    {
      "cell_type": "code",
      "execution_count": 6,
      "metadata": {
        "id": "qLUvefjgfmw_"
      },
      "outputs": [],
      "source": [
        "n_keypoints = 468\n",
        "n_features = n_keypoints * 2\n",
        "n_labels = 3   "
      ]
    },
    {
      "cell_type": "code",
      "execution_count": 7,
      "metadata": {
        "id": "577p5bFl4vNu"
      },
      "outputs": [],
      "source": [
        "data.drop(['Unnamed: 0', 'ID'], axis=1, inplace=True)\n",
        "# data.drop(['image'], axis=1, inplace=True)"
      ]
    },
    {
      "cell_type": "code",
      "execution_count": 8,
      "metadata": {
        "colab": {
          "base_uri": "https://localhost:8080/",
          "height": 300
        },
        "id": "tTzVSVay43Ha",
        "outputId": "ec592be9-e393-47bf-e15f-75154b33312a"
      },
      "outputs": [
        {
          "output_type": "execute_result",
          "data": {
            "text/plain": [
              "         F1        F2        F3        F4        F5        F6        F7  \\\n",
              "0  0.485651  0.686890  0.489194  0.639721  0.489802  0.647256  0.479730   \n",
              "1  0.441502  0.642091  0.417273  0.592251  0.448839  0.610546  0.435994   \n",
              "2  0.317797  0.799190  0.321328  0.776498  0.318316  0.782066  0.311064   \n",
              "3  0.503922  0.694309  0.469521  0.653913  0.489504  0.658751  0.444433   \n",
              "4  0.510238  0.669038  0.492729  0.604797  0.499756  0.624468  0.467368   \n",
              "\n",
              "         F8        F9       F10  ...      F930      F931      F932      F933  \\\n",
              "0  0.562529  0.490558  0.621213  ...  0.492813  0.541429  0.500371  0.665668   \n",
              "1  0.545069  0.415757  0.576966  ...  0.511724  0.500658  0.514913  0.584451   \n",
              "2  0.745973  0.321459  0.767816  ...  0.720868  0.328639  0.723342  0.373404   \n",
              "3  0.590285  0.461756  0.637613  ...  0.510606  0.490586  0.518652  0.595615   \n",
              "4  0.542362  0.488200  0.584701  ...  0.488652  0.505667  0.492681  0.602484   \n",
              "\n",
              "       F934      F935      F936     Pitch       Yaw      Roll  \n",
              "0  0.471336  0.676091  0.464005 -0.399231  0.018227  0.085676  \n",
              "1  0.500244  0.594060  0.495387  0.470065  1.189533  0.300959  \n",
              "2  0.713071  0.377643  0.709798 -0.184650  0.881137 -0.236852  \n",
              "3  0.455611  0.602670  0.444623 -0.175379  0.299208 -0.373374  \n",
              "4  0.452699  0.611310  0.448576 -0.026812  0.011965 -0.220662  \n",
              "\n",
              "[5 rows x 939 columns]"
            ],
            "text/html": [
              "\n",
              "  <div id=\"df-f97de213-ac86-4937-b646-3d158a878bba\">\n",
              "    <div class=\"colab-df-container\">\n",
              "      <div>\n",
              "<style scoped>\n",
              "    .dataframe tbody tr th:only-of-type {\n",
              "        vertical-align: middle;\n",
              "    }\n",
              "\n",
              "    .dataframe tbody tr th {\n",
              "        vertical-align: top;\n",
              "    }\n",
              "\n",
              "    .dataframe thead th {\n",
              "        text-align: right;\n",
              "    }\n",
              "</style>\n",
              "<table border=\"1\" class=\"dataframe\">\n",
              "  <thead>\n",
              "    <tr style=\"text-align: right;\">\n",
              "      <th></th>\n",
              "      <th>F1</th>\n",
              "      <th>F2</th>\n",
              "      <th>F3</th>\n",
              "      <th>F4</th>\n",
              "      <th>F5</th>\n",
              "      <th>F6</th>\n",
              "      <th>F7</th>\n",
              "      <th>F8</th>\n",
              "      <th>F9</th>\n",
              "      <th>F10</th>\n",
              "      <th>...</th>\n",
              "      <th>F930</th>\n",
              "      <th>F931</th>\n",
              "      <th>F932</th>\n",
              "      <th>F933</th>\n",
              "      <th>F934</th>\n",
              "      <th>F935</th>\n",
              "      <th>F936</th>\n",
              "      <th>Pitch</th>\n",
              "      <th>Yaw</th>\n",
              "      <th>Roll</th>\n",
              "    </tr>\n",
              "  </thead>\n",
              "  <tbody>\n",
              "    <tr>\n",
              "      <th>0</th>\n",
              "      <td>0.485651</td>\n",
              "      <td>0.686890</td>\n",
              "      <td>0.489194</td>\n",
              "      <td>0.639721</td>\n",
              "      <td>0.489802</td>\n",
              "      <td>0.647256</td>\n",
              "      <td>0.479730</td>\n",
              "      <td>0.562529</td>\n",
              "      <td>0.490558</td>\n",
              "      <td>0.621213</td>\n",
              "      <td>...</td>\n",
              "      <td>0.492813</td>\n",
              "      <td>0.541429</td>\n",
              "      <td>0.500371</td>\n",
              "      <td>0.665668</td>\n",
              "      <td>0.471336</td>\n",
              "      <td>0.676091</td>\n",
              "      <td>0.464005</td>\n",
              "      <td>-0.399231</td>\n",
              "      <td>0.018227</td>\n",
              "      <td>0.085676</td>\n",
              "    </tr>\n",
              "    <tr>\n",
              "      <th>1</th>\n",
              "      <td>0.441502</td>\n",
              "      <td>0.642091</td>\n",
              "      <td>0.417273</td>\n",
              "      <td>0.592251</td>\n",
              "      <td>0.448839</td>\n",
              "      <td>0.610546</td>\n",
              "      <td>0.435994</td>\n",
              "      <td>0.545069</td>\n",
              "      <td>0.415757</td>\n",
              "      <td>0.576966</td>\n",
              "      <td>...</td>\n",
              "      <td>0.511724</td>\n",
              "      <td>0.500658</td>\n",
              "      <td>0.514913</td>\n",
              "      <td>0.584451</td>\n",
              "      <td>0.500244</td>\n",
              "      <td>0.594060</td>\n",
              "      <td>0.495387</td>\n",
              "      <td>0.470065</td>\n",
              "      <td>1.189533</td>\n",
              "      <td>0.300959</td>\n",
              "    </tr>\n",
              "    <tr>\n",
              "      <th>2</th>\n",
              "      <td>0.317797</td>\n",
              "      <td>0.799190</td>\n",
              "      <td>0.321328</td>\n",
              "      <td>0.776498</td>\n",
              "      <td>0.318316</td>\n",
              "      <td>0.782066</td>\n",
              "      <td>0.311064</td>\n",
              "      <td>0.745973</td>\n",
              "      <td>0.321459</td>\n",
              "      <td>0.767816</td>\n",
              "      <td>...</td>\n",
              "      <td>0.720868</td>\n",
              "      <td>0.328639</td>\n",
              "      <td>0.723342</td>\n",
              "      <td>0.373404</td>\n",
              "      <td>0.713071</td>\n",
              "      <td>0.377643</td>\n",
              "      <td>0.709798</td>\n",
              "      <td>-0.184650</td>\n",
              "      <td>0.881137</td>\n",
              "      <td>-0.236852</td>\n",
              "    </tr>\n",
              "    <tr>\n",
              "      <th>3</th>\n",
              "      <td>0.503922</td>\n",
              "      <td>0.694309</td>\n",
              "      <td>0.469521</td>\n",
              "      <td>0.653913</td>\n",
              "      <td>0.489504</td>\n",
              "      <td>0.658751</td>\n",
              "      <td>0.444433</td>\n",
              "      <td>0.590285</td>\n",
              "      <td>0.461756</td>\n",
              "      <td>0.637613</td>\n",
              "      <td>...</td>\n",
              "      <td>0.510606</td>\n",
              "      <td>0.490586</td>\n",
              "      <td>0.518652</td>\n",
              "      <td>0.595615</td>\n",
              "      <td>0.455611</td>\n",
              "      <td>0.602670</td>\n",
              "      <td>0.444623</td>\n",
              "      <td>-0.175379</td>\n",
              "      <td>0.299208</td>\n",
              "      <td>-0.373374</td>\n",
              "    </tr>\n",
              "    <tr>\n",
              "      <th>4</th>\n",
              "      <td>0.510238</td>\n",
              "      <td>0.669038</td>\n",
              "      <td>0.492729</td>\n",
              "      <td>0.604797</td>\n",
              "      <td>0.499756</td>\n",
              "      <td>0.624468</td>\n",
              "      <td>0.467368</td>\n",
              "      <td>0.542362</td>\n",
              "      <td>0.488200</td>\n",
              "      <td>0.584701</td>\n",
              "      <td>...</td>\n",
              "      <td>0.488652</td>\n",
              "      <td>0.505667</td>\n",
              "      <td>0.492681</td>\n",
              "      <td>0.602484</td>\n",
              "      <td>0.452699</td>\n",
              "      <td>0.611310</td>\n",
              "      <td>0.448576</td>\n",
              "      <td>-0.026812</td>\n",
              "      <td>0.011965</td>\n",
              "      <td>-0.220662</td>\n",
              "    </tr>\n",
              "  </tbody>\n",
              "</table>\n",
              "<p>5 rows × 939 columns</p>\n",
              "</div>\n",
              "      <button class=\"colab-df-convert\" onclick=\"convertToInteractive('df-f97de213-ac86-4937-b646-3d158a878bba')\"\n",
              "              title=\"Convert this dataframe to an interactive table.\"\n",
              "              style=\"display:none;\">\n",
              "        \n",
              "  <svg xmlns=\"http://www.w3.org/2000/svg\" height=\"24px\"viewBox=\"0 0 24 24\"\n",
              "       width=\"24px\">\n",
              "    <path d=\"M0 0h24v24H0V0z\" fill=\"none\"/>\n",
              "    <path d=\"M18.56 5.44l.94 2.06.94-2.06 2.06-.94-2.06-.94-.94-2.06-.94 2.06-2.06.94zm-11 1L8.5 8.5l.94-2.06 2.06-.94-2.06-.94L8.5 2.5l-.94 2.06-2.06.94zm10 10l.94 2.06.94-2.06 2.06-.94-2.06-.94-.94-2.06-.94 2.06-2.06.94z\"/><path d=\"M17.41 7.96l-1.37-1.37c-.4-.4-.92-.59-1.43-.59-.52 0-1.04.2-1.43.59L10.3 9.45l-7.72 7.72c-.78.78-.78 2.05 0 2.83L4 21.41c.39.39.9.59 1.41.59.51 0 1.02-.2 1.41-.59l7.78-7.78 2.81-2.81c.8-.78.8-2.07 0-2.86zM5.41 20L4 18.59l7.72-7.72 1.47 1.35L5.41 20z\"/>\n",
              "  </svg>\n",
              "      </button>\n",
              "      \n",
              "  <style>\n",
              "    .colab-df-container {\n",
              "      display:flex;\n",
              "      flex-wrap:wrap;\n",
              "      gap: 12px;\n",
              "    }\n",
              "\n",
              "    .colab-df-convert {\n",
              "      background-color: #E8F0FE;\n",
              "      border: none;\n",
              "      border-radius: 50%;\n",
              "      cursor: pointer;\n",
              "      display: none;\n",
              "      fill: #1967D2;\n",
              "      height: 32px;\n",
              "      padding: 0 0 0 0;\n",
              "      width: 32px;\n",
              "    }\n",
              "\n",
              "    .colab-df-convert:hover {\n",
              "      background-color: #E2EBFA;\n",
              "      box-shadow: 0px 1px 2px rgba(60, 64, 67, 0.3), 0px 1px 3px 1px rgba(60, 64, 67, 0.15);\n",
              "      fill: #174EA6;\n",
              "    }\n",
              "\n",
              "    [theme=dark] .colab-df-convert {\n",
              "      background-color: #3B4455;\n",
              "      fill: #D2E3FC;\n",
              "    }\n",
              "\n",
              "    [theme=dark] .colab-df-convert:hover {\n",
              "      background-color: #434B5C;\n",
              "      box-shadow: 0px 1px 3px 1px rgba(0, 0, 0, 0.15);\n",
              "      filter: drop-shadow(0px 1px 2px rgba(0, 0, 0, 0.3));\n",
              "      fill: #FFFFFF;\n",
              "    }\n",
              "  </style>\n",
              "\n",
              "      <script>\n",
              "        const buttonEl =\n",
              "          document.querySelector('#df-f97de213-ac86-4937-b646-3d158a878bba button.colab-df-convert');\n",
              "        buttonEl.style.display =\n",
              "          google.colab.kernel.accessAllowed ? 'block' : 'none';\n",
              "\n",
              "        async function convertToInteractive(key) {\n",
              "          const element = document.querySelector('#df-f97de213-ac86-4937-b646-3d158a878bba');\n",
              "          const dataTable =\n",
              "            await google.colab.kernel.invokeFunction('convertToInteractive',\n",
              "                                                     [key], {});\n",
              "          if (!dataTable) return;\n",
              "\n",
              "          const docLinkHtml = 'Like what you see? Visit the ' +\n",
              "            '<a target=\"_blank\" href=https://colab.research.google.com/notebooks/data_table.ipynb>data table notebook</a>'\n",
              "            + ' to learn more about interactive tables.';\n",
              "          element.innerHTML = '';\n",
              "          dataTable['output_type'] = 'display_data';\n",
              "          await google.colab.output.renderOutput(dataTable, element);\n",
              "          const docLink = document.createElement('div');\n",
              "          docLink.innerHTML = docLinkHtml;\n",
              "          element.appendChild(docLink);\n",
              "        }\n",
              "      </script>\n",
              "    </div>\n",
              "  </div>\n",
              "  "
            ]
          },
          "metadata": {},
          "execution_count": 8
        }
      ],
      "source": [
        "data.head()"
      ]
    },
    {
      "cell_type": "markdown",
      "metadata": {
        "id": "1vmOWK2YgOk1"
      },
      "source": [
        "2- normalize around nose keypoint -> x2, y2  !!!UNUSED!!!"
      ]
    },
    {
      "cell_type": "code",
      "execution_count": null,
      "metadata": {
        "id": "kibd-T2fkmJ1"
      },
      "outputs": [],
      "source": [
        "centered_data = data.copy()"
      ]
    },
    {
      "cell_type": "code",
      "execution_count": null,
      "metadata": {
        "id": "0KIcIziSehDb"
      },
      "outputs": [],
      "source": [
        "def center_keypoints(df):\n",
        "  for i in range(1, n_features + 1):\n",
        "    feature = 'F' + str(i)\n",
        "\n",
        "    if i % 2 != 0:\n",
        "      df[feature] = df[feature] - data['F3']\n",
        "    \n",
        "    else:\n",
        "      df[feature] = df[feature] - data['F4']\n"
      ]
    },
    {
      "cell_type": "code",
      "execution_count": null,
      "metadata": {
        "id": "7yRbmqrHifU_"
      },
      "outputs": [],
      "source": [
        "center_keypoints(centered_data)"
      ]
    },
    {
      "cell_type": "code",
      "execution_count": null,
      "metadata": {
        "colab": {
          "base_uri": "https://localhost:8080/",
          "height": 300
        },
        "id": "8AXzemhthGwi",
        "outputId": "34eccc5e-1c22-414a-f229-95137646e31f"
      },
      "outputs": [
        {
          "output_type": "execute_result",
          "data": {
            "text/plain": [
              "         F1        F2   F3   F4        F5        F6        F7        F8  \\\n",
              "0 -0.003543  0.047169  0.0  0.0  0.000608  0.007535 -0.009464 -0.077192   \n",
              "1  0.024229  0.049840  0.0  0.0  0.031566  0.018295  0.018721 -0.047182   \n",
              "2 -0.003530  0.022692  0.0  0.0 -0.003012  0.005568 -0.010264 -0.030525   \n",
              "3  0.034401  0.040395  0.0  0.0  0.019983  0.004837 -0.025088 -0.063628   \n",
              "4  0.017510  0.064241  0.0  0.0  0.007027  0.019671 -0.025361 -0.062435   \n",
              "\n",
              "         F9       F10  ...      F930      F931      F932      F933      F934  \\\n",
              "0  0.001364 -0.018508  ... -0.146908  0.052235 -0.139350  0.176474 -0.168385   \n",
              "1 -0.001516 -0.015286  ... -0.080527  0.083385 -0.077338  0.167178 -0.092007   \n",
              "2  0.000131 -0.008681  ... -0.055630  0.007312 -0.053156  0.052077 -0.063427   \n",
              "3 -0.007765 -0.016300  ... -0.143307  0.021064 -0.135261  0.126094 -0.198303   \n",
              "4 -0.004529 -0.020096  ... -0.116145  0.012938 -0.112116  0.109755 -0.152098   \n",
              "\n",
              "       F935      F936     Pitch       Yaw      Roll  \n",
              "0  0.186897 -0.175716 -0.399231  0.018227  0.085676  \n",
              "1  0.176787 -0.096864  0.470065  1.189533  0.300959  \n",
              "2  0.056315 -0.066700 -0.184650  0.881137 -0.236852  \n",
              "3  0.133149 -0.209290 -0.175379  0.299208 -0.373374  \n",
              "4  0.118581 -0.156221 -0.026812  0.011965 -0.220662  \n",
              "\n",
              "[5 rows x 939 columns]"
            ],
            "text/html": [
              "\n",
              "  <div id=\"df-f1ae7a84-64ec-45ee-bc87-43771040f9f9\">\n",
              "    <div class=\"colab-df-container\">\n",
              "      <div>\n",
              "<style scoped>\n",
              "    .dataframe tbody tr th:only-of-type {\n",
              "        vertical-align: middle;\n",
              "    }\n",
              "\n",
              "    .dataframe tbody tr th {\n",
              "        vertical-align: top;\n",
              "    }\n",
              "\n",
              "    .dataframe thead th {\n",
              "        text-align: right;\n",
              "    }\n",
              "</style>\n",
              "<table border=\"1\" class=\"dataframe\">\n",
              "  <thead>\n",
              "    <tr style=\"text-align: right;\">\n",
              "      <th></th>\n",
              "      <th>F1</th>\n",
              "      <th>F2</th>\n",
              "      <th>F3</th>\n",
              "      <th>F4</th>\n",
              "      <th>F5</th>\n",
              "      <th>F6</th>\n",
              "      <th>F7</th>\n",
              "      <th>F8</th>\n",
              "      <th>F9</th>\n",
              "      <th>F10</th>\n",
              "      <th>...</th>\n",
              "      <th>F930</th>\n",
              "      <th>F931</th>\n",
              "      <th>F932</th>\n",
              "      <th>F933</th>\n",
              "      <th>F934</th>\n",
              "      <th>F935</th>\n",
              "      <th>F936</th>\n",
              "      <th>Pitch</th>\n",
              "      <th>Yaw</th>\n",
              "      <th>Roll</th>\n",
              "    </tr>\n",
              "  </thead>\n",
              "  <tbody>\n",
              "    <tr>\n",
              "      <th>0</th>\n",
              "      <td>-0.003543</td>\n",
              "      <td>0.047169</td>\n",
              "      <td>0.0</td>\n",
              "      <td>0.0</td>\n",
              "      <td>0.000608</td>\n",
              "      <td>0.007535</td>\n",
              "      <td>-0.009464</td>\n",
              "      <td>-0.077192</td>\n",
              "      <td>0.001364</td>\n",
              "      <td>-0.018508</td>\n",
              "      <td>...</td>\n",
              "      <td>-0.146908</td>\n",
              "      <td>0.052235</td>\n",
              "      <td>-0.139350</td>\n",
              "      <td>0.176474</td>\n",
              "      <td>-0.168385</td>\n",
              "      <td>0.186897</td>\n",
              "      <td>-0.175716</td>\n",
              "      <td>-0.399231</td>\n",
              "      <td>0.018227</td>\n",
              "      <td>0.085676</td>\n",
              "    </tr>\n",
              "    <tr>\n",
              "      <th>1</th>\n",
              "      <td>0.024229</td>\n",
              "      <td>0.049840</td>\n",
              "      <td>0.0</td>\n",
              "      <td>0.0</td>\n",
              "      <td>0.031566</td>\n",
              "      <td>0.018295</td>\n",
              "      <td>0.018721</td>\n",
              "      <td>-0.047182</td>\n",
              "      <td>-0.001516</td>\n",
              "      <td>-0.015286</td>\n",
              "      <td>...</td>\n",
              "      <td>-0.080527</td>\n",
              "      <td>0.083385</td>\n",
              "      <td>-0.077338</td>\n",
              "      <td>0.167178</td>\n",
              "      <td>-0.092007</td>\n",
              "      <td>0.176787</td>\n",
              "      <td>-0.096864</td>\n",
              "      <td>0.470065</td>\n",
              "      <td>1.189533</td>\n",
              "      <td>0.300959</td>\n",
              "    </tr>\n",
              "    <tr>\n",
              "      <th>2</th>\n",
              "      <td>-0.003530</td>\n",
              "      <td>0.022692</td>\n",
              "      <td>0.0</td>\n",
              "      <td>0.0</td>\n",
              "      <td>-0.003012</td>\n",
              "      <td>0.005568</td>\n",
              "      <td>-0.010264</td>\n",
              "      <td>-0.030525</td>\n",
              "      <td>0.000131</td>\n",
              "      <td>-0.008681</td>\n",
              "      <td>...</td>\n",
              "      <td>-0.055630</td>\n",
              "      <td>0.007312</td>\n",
              "      <td>-0.053156</td>\n",
              "      <td>0.052077</td>\n",
              "      <td>-0.063427</td>\n",
              "      <td>0.056315</td>\n",
              "      <td>-0.066700</td>\n",
              "      <td>-0.184650</td>\n",
              "      <td>0.881137</td>\n",
              "      <td>-0.236852</td>\n",
              "    </tr>\n",
              "    <tr>\n",
              "      <th>3</th>\n",
              "      <td>0.034401</td>\n",
              "      <td>0.040395</td>\n",
              "      <td>0.0</td>\n",
              "      <td>0.0</td>\n",
              "      <td>0.019983</td>\n",
              "      <td>0.004837</td>\n",
              "      <td>-0.025088</td>\n",
              "      <td>-0.063628</td>\n",
              "      <td>-0.007765</td>\n",
              "      <td>-0.016300</td>\n",
              "      <td>...</td>\n",
              "      <td>-0.143307</td>\n",
              "      <td>0.021064</td>\n",
              "      <td>-0.135261</td>\n",
              "      <td>0.126094</td>\n",
              "      <td>-0.198303</td>\n",
              "      <td>0.133149</td>\n",
              "      <td>-0.209290</td>\n",
              "      <td>-0.175379</td>\n",
              "      <td>0.299208</td>\n",
              "      <td>-0.373374</td>\n",
              "    </tr>\n",
              "    <tr>\n",
              "      <th>4</th>\n",
              "      <td>0.017510</td>\n",
              "      <td>0.064241</td>\n",
              "      <td>0.0</td>\n",
              "      <td>0.0</td>\n",
              "      <td>0.007027</td>\n",
              "      <td>0.019671</td>\n",
              "      <td>-0.025361</td>\n",
              "      <td>-0.062435</td>\n",
              "      <td>-0.004529</td>\n",
              "      <td>-0.020096</td>\n",
              "      <td>...</td>\n",
              "      <td>-0.116145</td>\n",
              "      <td>0.012938</td>\n",
              "      <td>-0.112116</td>\n",
              "      <td>0.109755</td>\n",
              "      <td>-0.152098</td>\n",
              "      <td>0.118581</td>\n",
              "      <td>-0.156221</td>\n",
              "      <td>-0.026812</td>\n",
              "      <td>0.011965</td>\n",
              "      <td>-0.220662</td>\n",
              "    </tr>\n",
              "  </tbody>\n",
              "</table>\n",
              "<p>5 rows × 939 columns</p>\n",
              "</div>\n",
              "      <button class=\"colab-df-convert\" onclick=\"convertToInteractive('df-f1ae7a84-64ec-45ee-bc87-43771040f9f9')\"\n",
              "              title=\"Convert this dataframe to an interactive table.\"\n",
              "              style=\"display:none;\">\n",
              "        \n",
              "  <svg xmlns=\"http://www.w3.org/2000/svg\" height=\"24px\"viewBox=\"0 0 24 24\"\n",
              "       width=\"24px\">\n",
              "    <path d=\"M0 0h24v24H0V0z\" fill=\"none\"/>\n",
              "    <path d=\"M18.56 5.44l.94 2.06.94-2.06 2.06-.94-2.06-.94-.94-2.06-.94 2.06-2.06.94zm-11 1L8.5 8.5l.94-2.06 2.06-.94-2.06-.94L8.5 2.5l-.94 2.06-2.06.94zm10 10l.94 2.06.94-2.06 2.06-.94-2.06-.94-.94-2.06-.94 2.06-2.06.94z\"/><path d=\"M17.41 7.96l-1.37-1.37c-.4-.4-.92-.59-1.43-.59-.52 0-1.04.2-1.43.59L10.3 9.45l-7.72 7.72c-.78.78-.78 2.05 0 2.83L4 21.41c.39.39.9.59 1.41.59.51 0 1.02-.2 1.41-.59l7.78-7.78 2.81-2.81c.8-.78.8-2.07 0-2.86zM5.41 20L4 18.59l7.72-7.72 1.47 1.35L5.41 20z\"/>\n",
              "  </svg>\n",
              "      </button>\n",
              "      \n",
              "  <style>\n",
              "    .colab-df-container {\n",
              "      display:flex;\n",
              "      flex-wrap:wrap;\n",
              "      gap: 12px;\n",
              "    }\n",
              "\n",
              "    .colab-df-convert {\n",
              "      background-color: #E8F0FE;\n",
              "      border: none;\n",
              "      border-radius: 50%;\n",
              "      cursor: pointer;\n",
              "      display: none;\n",
              "      fill: #1967D2;\n",
              "      height: 32px;\n",
              "      padding: 0 0 0 0;\n",
              "      width: 32px;\n",
              "    }\n",
              "\n",
              "    .colab-df-convert:hover {\n",
              "      background-color: #E2EBFA;\n",
              "      box-shadow: 0px 1px 2px rgba(60, 64, 67, 0.3), 0px 1px 3px 1px rgba(60, 64, 67, 0.15);\n",
              "      fill: #174EA6;\n",
              "    }\n",
              "\n",
              "    [theme=dark] .colab-df-convert {\n",
              "      background-color: #3B4455;\n",
              "      fill: #D2E3FC;\n",
              "    }\n",
              "\n",
              "    [theme=dark] .colab-df-convert:hover {\n",
              "      background-color: #434B5C;\n",
              "      box-shadow: 0px 1px 3px 1px rgba(0, 0, 0, 0.15);\n",
              "      filter: drop-shadow(0px 1px 2px rgba(0, 0, 0, 0.3));\n",
              "      fill: #FFFFFF;\n",
              "    }\n",
              "  </style>\n",
              "\n",
              "      <script>\n",
              "        const buttonEl =\n",
              "          document.querySelector('#df-f1ae7a84-64ec-45ee-bc87-43771040f9f9 button.colab-df-convert');\n",
              "        buttonEl.style.display =\n",
              "          google.colab.kernel.accessAllowed ? 'block' : 'none';\n",
              "\n",
              "        async function convertToInteractive(key) {\n",
              "          const element = document.querySelector('#df-f1ae7a84-64ec-45ee-bc87-43771040f9f9');\n",
              "          const dataTable =\n",
              "            await google.colab.kernel.invokeFunction('convertToInteractive',\n",
              "                                                     [key], {});\n",
              "          if (!dataTable) return;\n",
              "\n",
              "          const docLinkHtml = 'Like what you see? Visit the ' +\n",
              "            '<a target=\"_blank\" href=https://colab.research.google.com/notebooks/data_table.ipynb>data table notebook</a>'\n",
              "            + ' to learn more about interactive tables.';\n",
              "          element.innerHTML = '';\n",
              "          dataTable['output_type'] = 'display_data';\n",
              "          await google.colab.output.renderOutput(dataTable, element);\n",
              "          const docLink = document.createElement('div');\n",
              "          docLink.innerHTML = docLinkHtml;\n",
              "          element.appendChild(docLink);\n",
              "        }\n",
              "      </script>\n",
              "    </div>\n",
              "  </div>\n",
              "  "
            ]
          },
          "metadata": {},
          "execution_count": 227
        }
      ],
      "source": [
        "centered_data.head()"
      ]
    },
    {
      "cell_type": "markdown",
      "metadata": {
        "id": "pJu7a-FwoVDt"
      },
      "source": [
        "Normalize data"
      ]
    },
    {
      "cell_type": "code",
      "execution_count": null,
      "metadata": {
        "id": "0cKV9J1LoUzo"
      },
      "outputs": [],
      "source": [
        "# min_max_data = pd.DataFrame(MinMaxScaler().fit_transform(centered_data), columns=centered_data.columns)\n",
        "# data = min_max_data"
      ]
    },
    {
      "cell_type": "code",
      "execution_count": 9,
      "metadata": {
        "colab": {
          "base_uri": "https://localhost:8080/",
          "height": 300
        },
        "id": "zA3qLvpPmAZJ",
        "outputId": "222ea587-91fb-4c9f-941f-3332b0bbc72c"
      },
      "outputs": [
        {
          "output_type": "execute_result",
          "data": {
            "text/plain": [
              "         F1        F2        F3        F4        F5        F6        F7  \\\n",
              "0  0.485651  0.686890  0.489194  0.639721  0.489802  0.647256  0.479730   \n",
              "1  0.441502  0.642091  0.417273  0.592251  0.448839  0.610546  0.435994   \n",
              "2  0.317797  0.799190  0.321328  0.776498  0.318316  0.782066  0.311064   \n",
              "3  0.503922  0.694309  0.469521  0.653913  0.489504  0.658751  0.444433   \n",
              "4  0.510238  0.669038  0.492729  0.604797  0.499756  0.624468  0.467368   \n",
              "\n",
              "         F8        F9       F10  ...      F930      F931      F932      F933  \\\n",
              "0  0.562529  0.490558  0.621213  ...  0.492813  0.541429  0.500371  0.665668   \n",
              "1  0.545069  0.415757  0.576966  ...  0.511724  0.500658  0.514913  0.584451   \n",
              "2  0.745973  0.321459  0.767816  ...  0.720868  0.328639  0.723342  0.373404   \n",
              "3  0.590285  0.461756  0.637613  ...  0.510606  0.490586  0.518652  0.595615   \n",
              "4  0.542362  0.488200  0.584701  ...  0.488652  0.505667  0.492681  0.602484   \n",
              "\n",
              "       F934      F935      F936     Pitch       Yaw      Roll  \n",
              "0  0.471336  0.676091  0.464005 -0.399231  0.018227  0.085676  \n",
              "1  0.500244  0.594060  0.495387  0.470065  1.189533  0.300959  \n",
              "2  0.713071  0.377643  0.709798 -0.184650  0.881137 -0.236852  \n",
              "3  0.455611  0.602670  0.444623 -0.175379  0.299208 -0.373374  \n",
              "4  0.452699  0.611310  0.448576 -0.026812  0.011965 -0.220662  \n",
              "\n",
              "[5 rows x 939 columns]"
            ],
            "text/html": [
              "\n",
              "  <div id=\"df-dd42a3b8-ab8e-44cd-a513-afe9690a8fb7\">\n",
              "    <div class=\"colab-df-container\">\n",
              "      <div>\n",
              "<style scoped>\n",
              "    .dataframe tbody tr th:only-of-type {\n",
              "        vertical-align: middle;\n",
              "    }\n",
              "\n",
              "    .dataframe tbody tr th {\n",
              "        vertical-align: top;\n",
              "    }\n",
              "\n",
              "    .dataframe thead th {\n",
              "        text-align: right;\n",
              "    }\n",
              "</style>\n",
              "<table border=\"1\" class=\"dataframe\">\n",
              "  <thead>\n",
              "    <tr style=\"text-align: right;\">\n",
              "      <th></th>\n",
              "      <th>F1</th>\n",
              "      <th>F2</th>\n",
              "      <th>F3</th>\n",
              "      <th>F4</th>\n",
              "      <th>F5</th>\n",
              "      <th>F6</th>\n",
              "      <th>F7</th>\n",
              "      <th>F8</th>\n",
              "      <th>F9</th>\n",
              "      <th>F10</th>\n",
              "      <th>...</th>\n",
              "      <th>F930</th>\n",
              "      <th>F931</th>\n",
              "      <th>F932</th>\n",
              "      <th>F933</th>\n",
              "      <th>F934</th>\n",
              "      <th>F935</th>\n",
              "      <th>F936</th>\n",
              "      <th>Pitch</th>\n",
              "      <th>Yaw</th>\n",
              "      <th>Roll</th>\n",
              "    </tr>\n",
              "  </thead>\n",
              "  <tbody>\n",
              "    <tr>\n",
              "      <th>0</th>\n",
              "      <td>0.485651</td>\n",
              "      <td>0.686890</td>\n",
              "      <td>0.489194</td>\n",
              "      <td>0.639721</td>\n",
              "      <td>0.489802</td>\n",
              "      <td>0.647256</td>\n",
              "      <td>0.479730</td>\n",
              "      <td>0.562529</td>\n",
              "      <td>0.490558</td>\n",
              "      <td>0.621213</td>\n",
              "      <td>...</td>\n",
              "      <td>0.492813</td>\n",
              "      <td>0.541429</td>\n",
              "      <td>0.500371</td>\n",
              "      <td>0.665668</td>\n",
              "      <td>0.471336</td>\n",
              "      <td>0.676091</td>\n",
              "      <td>0.464005</td>\n",
              "      <td>-0.399231</td>\n",
              "      <td>0.018227</td>\n",
              "      <td>0.085676</td>\n",
              "    </tr>\n",
              "    <tr>\n",
              "      <th>1</th>\n",
              "      <td>0.441502</td>\n",
              "      <td>0.642091</td>\n",
              "      <td>0.417273</td>\n",
              "      <td>0.592251</td>\n",
              "      <td>0.448839</td>\n",
              "      <td>0.610546</td>\n",
              "      <td>0.435994</td>\n",
              "      <td>0.545069</td>\n",
              "      <td>0.415757</td>\n",
              "      <td>0.576966</td>\n",
              "      <td>...</td>\n",
              "      <td>0.511724</td>\n",
              "      <td>0.500658</td>\n",
              "      <td>0.514913</td>\n",
              "      <td>0.584451</td>\n",
              "      <td>0.500244</td>\n",
              "      <td>0.594060</td>\n",
              "      <td>0.495387</td>\n",
              "      <td>0.470065</td>\n",
              "      <td>1.189533</td>\n",
              "      <td>0.300959</td>\n",
              "    </tr>\n",
              "    <tr>\n",
              "      <th>2</th>\n",
              "      <td>0.317797</td>\n",
              "      <td>0.799190</td>\n",
              "      <td>0.321328</td>\n",
              "      <td>0.776498</td>\n",
              "      <td>0.318316</td>\n",
              "      <td>0.782066</td>\n",
              "      <td>0.311064</td>\n",
              "      <td>0.745973</td>\n",
              "      <td>0.321459</td>\n",
              "      <td>0.767816</td>\n",
              "      <td>...</td>\n",
              "      <td>0.720868</td>\n",
              "      <td>0.328639</td>\n",
              "      <td>0.723342</td>\n",
              "      <td>0.373404</td>\n",
              "      <td>0.713071</td>\n",
              "      <td>0.377643</td>\n",
              "      <td>0.709798</td>\n",
              "      <td>-0.184650</td>\n",
              "      <td>0.881137</td>\n",
              "      <td>-0.236852</td>\n",
              "    </tr>\n",
              "    <tr>\n",
              "      <th>3</th>\n",
              "      <td>0.503922</td>\n",
              "      <td>0.694309</td>\n",
              "      <td>0.469521</td>\n",
              "      <td>0.653913</td>\n",
              "      <td>0.489504</td>\n",
              "      <td>0.658751</td>\n",
              "      <td>0.444433</td>\n",
              "      <td>0.590285</td>\n",
              "      <td>0.461756</td>\n",
              "      <td>0.637613</td>\n",
              "      <td>...</td>\n",
              "      <td>0.510606</td>\n",
              "      <td>0.490586</td>\n",
              "      <td>0.518652</td>\n",
              "      <td>0.595615</td>\n",
              "      <td>0.455611</td>\n",
              "      <td>0.602670</td>\n",
              "      <td>0.444623</td>\n",
              "      <td>-0.175379</td>\n",
              "      <td>0.299208</td>\n",
              "      <td>-0.373374</td>\n",
              "    </tr>\n",
              "    <tr>\n",
              "      <th>4</th>\n",
              "      <td>0.510238</td>\n",
              "      <td>0.669038</td>\n",
              "      <td>0.492729</td>\n",
              "      <td>0.604797</td>\n",
              "      <td>0.499756</td>\n",
              "      <td>0.624468</td>\n",
              "      <td>0.467368</td>\n",
              "      <td>0.542362</td>\n",
              "      <td>0.488200</td>\n",
              "      <td>0.584701</td>\n",
              "      <td>...</td>\n",
              "      <td>0.488652</td>\n",
              "      <td>0.505667</td>\n",
              "      <td>0.492681</td>\n",
              "      <td>0.602484</td>\n",
              "      <td>0.452699</td>\n",
              "      <td>0.611310</td>\n",
              "      <td>0.448576</td>\n",
              "      <td>-0.026812</td>\n",
              "      <td>0.011965</td>\n",
              "      <td>-0.220662</td>\n",
              "    </tr>\n",
              "  </tbody>\n",
              "</table>\n",
              "<p>5 rows × 939 columns</p>\n",
              "</div>\n",
              "      <button class=\"colab-df-convert\" onclick=\"convertToInteractive('df-dd42a3b8-ab8e-44cd-a513-afe9690a8fb7')\"\n",
              "              title=\"Convert this dataframe to an interactive table.\"\n",
              "              style=\"display:none;\">\n",
              "        \n",
              "  <svg xmlns=\"http://www.w3.org/2000/svg\" height=\"24px\"viewBox=\"0 0 24 24\"\n",
              "       width=\"24px\">\n",
              "    <path d=\"M0 0h24v24H0V0z\" fill=\"none\"/>\n",
              "    <path d=\"M18.56 5.44l.94 2.06.94-2.06 2.06-.94-2.06-.94-.94-2.06-.94 2.06-2.06.94zm-11 1L8.5 8.5l.94-2.06 2.06-.94-2.06-.94L8.5 2.5l-.94 2.06-2.06.94zm10 10l.94 2.06.94-2.06 2.06-.94-2.06-.94-.94-2.06-.94 2.06-2.06.94z\"/><path d=\"M17.41 7.96l-1.37-1.37c-.4-.4-.92-.59-1.43-.59-.52 0-1.04.2-1.43.59L10.3 9.45l-7.72 7.72c-.78.78-.78 2.05 0 2.83L4 21.41c.39.39.9.59 1.41.59.51 0 1.02-.2 1.41-.59l7.78-7.78 2.81-2.81c.8-.78.8-2.07 0-2.86zM5.41 20L4 18.59l7.72-7.72 1.47 1.35L5.41 20z\"/>\n",
              "  </svg>\n",
              "      </button>\n",
              "      \n",
              "  <style>\n",
              "    .colab-df-container {\n",
              "      display:flex;\n",
              "      flex-wrap:wrap;\n",
              "      gap: 12px;\n",
              "    }\n",
              "\n",
              "    .colab-df-convert {\n",
              "      background-color: #E8F0FE;\n",
              "      border: none;\n",
              "      border-radius: 50%;\n",
              "      cursor: pointer;\n",
              "      display: none;\n",
              "      fill: #1967D2;\n",
              "      height: 32px;\n",
              "      padding: 0 0 0 0;\n",
              "      width: 32px;\n",
              "    }\n",
              "\n",
              "    .colab-df-convert:hover {\n",
              "      background-color: #E2EBFA;\n",
              "      box-shadow: 0px 1px 2px rgba(60, 64, 67, 0.3), 0px 1px 3px 1px rgba(60, 64, 67, 0.15);\n",
              "      fill: #174EA6;\n",
              "    }\n",
              "\n",
              "    [theme=dark] .colab-df-convert {\n",
              "      background-color: #3B4455;\n",
              "      fill: #D2E3FC;\n",
              "    }\n",
              "\n",
              "    [theme=dark] .colab-df-convert:hover {\n",
              "      background-color: #434B5C;\n",
              "      box-shadow: 0px 1px 3px 1px rgba(0, 0, 0, 0.15);\n",
              "      filter: drop-shadow(0px 1px 2px rgba(0, 0, 0, 0.3));\n",
              "      fill: #FFFFFF;\n",
              "    }\n",
              "  </style>\n",
              "\n",
              "      <script>\n",
              "        const buttonEl =\n",
              "          document.querySelector('#df-dd42a3b8-ab8e-44cd-a513-afe9690a8fb7 button.colab-df-convert');\n",
              "        buttonEl.style.display =\n",
              "          google.colab.kernel.accessAllowed ? 'block' : 'none';\n",
              "\n",
              "        async function convertToInteractive(key) {\n",
              "          const element = document.querySelector('#df-dd42a3b8-ab8e-44cd-a513-afe9690a8fb7');\n",
              "          const dataTable =\n",
              "            await google.colab.kernel.invokeFunction('convertToInteractive',\n",
              "                                                     [key], {});\n",
              "          if (!dataTable) return;\n",
              "\n",
              "          const docLinkHtml = 'Like what you see? Visit the ' +\n",
              "            '<a target=\"_blank\" href=https://colab.research.google.com/notebooks/data_table.ipynb>data table notebook</a>'\n",
              "            + ' to learn more about interactive tables.';\n",
              "          element.innerHTML = '';\n",
              "          dataTable['output_type'] = 'display_data';\n",
              "          await google.colab.output.renderOutput(dataTable, element);\n",
              "          const docLink = document.createElement('div');\n",
              "          docLink.innerHTML = docLinkHtml;\n",
              "          element.appendChild(docLink);\n",
              "        }\n",
              "      </script>\n",
              "    </div>\n",
              "  </div>\n",
              "  "
            ]
          },
          "metadata": {},
          "execution_count": 9
        }
      ],
      "source": [
        "# data = centered_data\n",
        "data.head()"
      ]
    },
    {
      "cell_type": "markdown",
      "metadata": {
        "id": "LHCE10vgeOYW"
      },
      "source": [
        "-----------------------------------------"
      ]
    },
    {
      "cell_type": "markdown",
      "metadata": {
        "id": "Bbswgb35Y1Po"
      },
      "source": [
        "## Split data into train and test sets"
      ]
    },
    {
      "cell_type": "code",
      "execution_count": 10,
      "metadata": {
        "colab": {
          "base_uri": "https://localhost:8080/"
        },
        "id": "8-PFesLc7YJv",
        "outputId": "f939d2d9-abd6-47f9-c003-e775e3eb88fe"
      },
      "outputs": [
        {
          "output_type": "stream",
          "name": "stdout",
          "text": [
            "x shape:  (1853, 936)\n",
            "y shape:  (1853, 3)\n"
          ]
        }
      ],
      "source": [
        "# label consists of 3 parts for each observation\n",
        "x = data.iloc[:, :n_features]\n",
        "y = data.iloc[:, -n_labels:]\n",
        "print('x shape: ', x.shape)\n",
        "print('y shape: ', y.shape)"
      ]
    },
    {
      "cell_type": "code",
      "execution_count": 11,
      "metadata": {
        "id": "QicK2A0g7GcF"
      },
      "outputs": [],
      "source": [
        "x_train, x_test, y_train, y_test = train_test_split(x, y, test_size=0.2, random_state=123)"
      ]
    },
    {
      "cell_type": "code",
      "execution_count": 12,
      "metadata": {
        "id": "yd_UNzvWYGmN"
      },
      "outputs": [],
      "source": [
        "# train, validate, test = np.split(data.sample(frac=1, random_state=1), [int(.6*len(data)), int(.8*len(data))])"
      ]
    },
    {
      "cell_type": "code",
      "execution_count": 13,
      "metadata": {
        "colab": {
          "base_uri": "https://localhost:8080/"
        },
        "id": "u3XVXKDUZCgy",
        "outputId": "fa60ccfa-b017-4d32-e717-dcbfb31d8615"
      },
      "outputs": [
        {
          "output_type": "stream",
          "name": "stdout",
          "text": [
            "x_train: (1482, 936)       ,       y_train: (1482, 3)\n",
            "x_test:  (371, 936)        ,       y_test:  (371, 3)\n"
          ]
        }
      ],
      "source": [
        "print(f'x_train: {x_train.shape}       ,       y_train: {y_train.shape}')\n",
        "# print(validate.shape)\n",
        "print(f'x_test:  {x_test.shape}        ,       y_test:  {y_test.shape}')\n"
      ]
    },
    {
      "cell_type": "markdown",
      "metadata": {
        "id": "BYu1ti5GeBGa"
      },
      "source": [
        "-------------------------------------------------------------"
      ]
    },
    {
      "cell_type": "markdown",
      "metadata": {
        "id": "rUk1uKn2bluV"
      },
      "source": [
        "## Model training\n",
        "#### Training different models on our dataset\n",
        "\n",
        "We'll train six models:\n",
        "- BayesianRidge regressor       ***done***  \n",
        "- DecisionTreeRegressor  ***done***\n",
        "- RandomForestRegressor ***done***\n",
        "- GradientBoostingRegressor\n",
        "- AdaBoostRegressor\n",
        "- knn                            ***done***"
      ]
    },
    {
      "cell_type": "markdown",
      "metadata": {
        "id": "s9mIJU7xuH63"
      },
      "source": [
        "### 1- Use cross validation to choose best model "
      ]
    },
    {
      "cell_type": "code",
      "execution_count": 14,
      "metadata": {
        "id": "-vIkzBNdb9B9"
      },
      "outputs": [],
      "source": [
        "def cross_val_repeated(model, x_train, y_train):\n",
        "  # define the evaluation procedure\n",
        "  cv = RepeatedKFold(n_splits=10, n_repeats=3, random_state=1)\n",
        "\n",
        "  # evaluate the model and collect the scores\n",
        "  n_scores = cross_val_score(model, x_train, y_train, scoring='r2', cv=cv, n_jobs=-1)\n",
        "\n",
        "  # # force the scores to be positive\n",
        "  n_scores = np.absolute(n_scores)\n",
        "\n",
        "  return np.mean(n_scores)"
      ]
    },
    {
      "cell_type": "code",
      "execution_count": 15,
      "metadata": {
        "id": "qv8HI0HOrBWH"
      },
      "outputs": [],
      "source": [
        "def cross_val(x_train, y_train):\n",
        "  cv_scores_dict = {}\n",
        "# Tree Models\n",
        "  rf_model = RandomForestRegressor(n_estimators = 3, max_features = 'sqrt', max_depth = 5, random_state = 18)\n",
        "  cv_scores_dict['RandomForestRegressor'] = cross_val_repeated(rf_model, x_train, y_train)\n",
        "\n",
        "  # KNN Model\n",
        "  knn_model = KNeighborsRegressor(5,leaf_size=15, weights='uniform')       \n",
        "  cv_scores_dict['KNN_uniform'] = cross_val_repeated(knn_model, x_train, y_train)\n",
        "\n",
        "  # KNN Model\n",
        "  knn_model = KNeighborsRegressor(5, leaf_size=15, weights='distance')       \n",
        "  cv_scores_dict['KNN_distance'] = cross_val_repeated(knn_model, x_train, y_train)\n",
        "\n",
        "  return cv_scores_dict"
      ]
    },
    {
      "cell_type": "code",
      "execution_count": null,
      "metadata": {
        "colab": {
          "base_uri": "https://localhost:8080/"
        },
        "id": "qjU9yD1szN1J",
        "outputId": "acde76db-9e40-44ce-b6de-114db101529f"
      },
      "outputs": [
        {
          "output_type": "execute_result",
          "data": {
            "text/plain": [
              "{'KNN_distance': 0.8458124358249436,\n",
              " 'KNN_uniform': 0.8625220174458605,\n",
              " 'RandomForestRegressor': 0.7874434077083823}"
            ]
          },
          "metadata": {},
          "execution_count": 68
        }
      ],
      "source": [
        "cross_val(x_train, y_train['Yaw'])"
      ]
    },
    {
      "cell_type": "code",
      "execution_count": null,
      "metadata": {
        "colab": {
          "base_uri": "https://localhost:8080/"
        },
        "id": "bGgq7m8MzDEb",
        "outputId": "ddc81e60-7b14-47ea-912c-176f2c27794c"
      },
      "outputs": [
        {
          "output_type": "execute_result",
          "data": {
            "text/plain": [
              "{'KNN_distance': 0.5090267797583362,\n",
              " 'KNN_uniform': 0.43095149059910903,\n",
              " 'RandomForestRegressor': 0.5111953524685512}"
            ]
          },
          "metadata": {},
          "execution_count": 70
        }
      ],
      "source": [
        "cross_val(x_train, y_train['Pitch'])"
      ]
    },
    {
      "cell_type": "code",
      "execution_count": null,
      "metadata": {
        "colab": {
          "base_uri": "https://localhost:8080/"
        },
        "id": "3-NXPttqzQWr",
        "outputId": "514f7c53-2828-4706-dfdb-c1bd3e79f65d"
      },
      "outputs": [
        {
          "output_type": "execute_result",
          "data": {
            "text/plain": [
              "{'KNN_distance': 0.5802248340986641,\n",
              " 'KNN_uniform': 0.5402873922262568,\n",
              " 'RandomForestRegressor': 0.8658507748947087}"
            ]
          },
          "metadata": {},
          "execution_count": 69
        }
      ],
      "source": [
        "cross_val(x_train, y_train['Roll'])"
      ]
    },
    {
      "cell_type": "code",
      "source": [
        "cross_val(x_train, y_train)"
      ],
      "metadata": {
        "colab": {
          "base_uri": "https://localhost:8080/"
        },
        "id": "W_icvm3lufgE",
        "outputId": "2cbc4ae4-cf4b-41b1-bc9e-01ce5ecaf435"
      },
      "execution_count": null,
      "outputs": [
        {
          "output_type": "execute_result",
          "data": {
            "text/plain": [
              "{'KNN_distance': 0.5413039881483053,\n",
              " 'KNN_uniform': 0.47448437867903237,\n",
              " 'RandomForestRegressor': 0.9499490401796599}"
            ]
          },
          "metadata": {},
          "execution_count": 131
        }
      ]
    },
    {
      "cell_type": "markdown",
      "metadata": {
        "id": "aSpUSwlZ8QyO"
      },
      "source": [
        "#### conclusion: \n",
        "KNN uniform performs the best <br>"
      ]
    },
    {
      "cell_type": "markdown",
      "metadata": {
        "id": "tJgAsc1h93p0"
      },
      "source": [
        "----------------------------------------------------"
      ]
    },
    {
      "cell_type": "markdown",
      "metadata": {
        "id": "axqyrscnpm0z"
      },
      "source": [
        "### Grid search for best hyper-parameters"
      ]
    },
    {
      "cell_type": "markdown",
      "metadata": {
        "id": "H2WryncrADXG"
      },
      "source": [
        "model 1 -> no normalization"
      ]
    },
    {
      "cell_type": "code",
      "execution_count": null,
      "metadata": {
        "id": "ugwh8OLBQGHe"
      },
      "outputs": [],
      "source": [
        "def show3D(searcher, grid_param_1, grid_param_2, name_param_1, name_param_2, rot=0):\n",
        "    scores_mean = searcher.cv_results_['mean_test_score']\n",
        "    scores_mean = np.array(scores_mean).reshape(len(grid_param_1), len(grid_param_2)).T\n",
        "\n",
        "    print('Best params = {}'.format(searcher.best_params_))\n",
        "    print('Best score = {}'.format(scores_mean.max()))\n",
        "\n",
        "    _, ax = plt.subplots(1,1)\n",
        "\n",
        "    # Param1 is the X-axis, Param 2 is represented as a different curve (color line)\n",
        "    for idx, val in enumerate(grid_param_2):\n",
        "        ax.plot(grid_param_1, scores_mean[idx, :], '-o', label=name_param_2 + ': ' + str(val))\n",
        "\n",
        "    ax.tick_params(axis='x', rotation=rot)\n",
        "    ax.set_title('Grid Search Scores')\n",
        "    ax.set_xlabel(name_param_1)\n",
        "    ax.set_ylabel('CV score')\n",
        "    ax.legend(loc='best')\n",
        "    ax.grid('on')"
      ]
    },
    {
      "cell_type": "code",
      "execution_count": null,
      "metadata": {
        "id": "46O4M3Bn9d4Q"
      },
      "outputs": [],
      "source": [
        "def gs_knn(x_train, y_train):\n",
        "  knn_model = KNeighborsRegressor()       \n",
        "  weights = ['uniform', 'distance']\n",
        "  n_neighbors = list(range(2,25))\n",
        "  leaf_size =  [15]\n",
        "  params = [{'n_neighbors': n_neighbors,\n",
        "          'weights': weights,\n",
        "          'leaf_size': leaf_size}]\n",
        "\n",
        "  knn_gs = GridSearchCV(knn_model, params, scoring='r2')\n",
        "\n",
        "  knn_gs.fit(x_train, y_train)\n",
        "\n",
        "  show3D(knn_gs, n_neighbors, weights,  'n_neighbors', 'weights', 80)\n"
      ]
    },
    {
      "cell_type": "code",
      "execution_count": null,
      "metadata": {
        "colab": {
          "base_uri": "https://localhost:8080/",
          "height": 336
        },
        "id": "0HYTEcm4VkYT",
        "outputId": "aadfbc03-efeb-4429-cd15-47d33c2f5fcd"
      },
      "outputs": [
        {
          "output_type": "stream",
          "name": "stdout",
          "text": [
            "Best params = {'leaf_size': 15, 'n_neighbors': 23, 'weights': 'uniform'}\n",
            "Best score = 0.5888618310591311\n"
          ]
        },
        {
          "output_type": "display_data",
          "data": {
            "text/plain": [
              "<Figure size 432x288 with 1 Axes>"
            ],
            "image/png": "[encoded data removed]"
          },
          "metadata": {
            "needs_background": "light"
          }
        }
      ],
      "source": [
        "gs_knn(x_train, y_train)"
      ]
    },
    {
      "cell_type": "code",
      "execution_count": null,
      "metadata": {
        "colab": {
          "base_uri": "https://localhost:8080/",
          "height": 336
        },
        "id": "HufO2oWF4_Ar",
        "outputId": "efa2213f-70f2-45d0-e8e0-cd8df343ad8d"
      },
      "outputs": [
        {
          "name": "stdout",
          "output_type": "stream",
          "text": [
            "Best params = {'leaf_size': 15, 'n_neighbors': 24, 'weights': 'uniform'}\n",
            "Best score = 0.48235089539340403\n"
          ]
        },
        {
          "data": {
            "image/png": "[encoded data removed]",
            "text/plain": [
              "<Figure size 432x288 with 1 Axes>"
            ]
          },
          "metadata": {},
          "output_type": "display_data"
        }
      ],
      "source": [
        "gs_knn(x_train, y_train['pitch'])"
      ]
    },
    {
      "cell_type": "code",
      "execution_count": null,
      "metadata": {
        "colab": {
          "base_uri": "https://localhost:8080/",
          "height": 336
        },
        "id": "7dSTMyv65ENx",
        "outputId": "48f7a625-bb11-43cf-d0e7-3175ef5f891a"
      },
      "outputs": [
        {
          "name": "stdout",
          "output_type": "stream",
          "text": [
            "Best params = {'leaf_size': 15, 'n_neighbors': 17, 'weights': 'uniform'}\n",
            "Best score = 0.6330417556189529\n"
          ]
        },
        {
          "data": {
            "image/png": "[encoded data removed]",
            "text/plain": [
              "<Figure size 432x288 with 1 Axes>"
            ]
          },
          "metadata": {},
          "output_type": "display_data"
        }
      ],
      "source": [
        "gs_knn(x_train, y_train['roll'])"
      ]
    },
    {
      "cell_type": "markdown",
      "metadata": {
        "id": "1I8NTTYR1yWF"
      },
      "source": [
        "------------------------------------------------------"
      ]
    },
    {
      "cell_type": "markdown",
      "metadata": {
        "id": "JZr60Ce704XJ"
      },
      "source": [
        "### Train random forest"
      ]
    },
    {
      "cell_type": "code",
      "execution_count": null,
      "metadata": {
        "id": "usVdDrWzp9bR"
      },
      "outputs": [],
      "source": [
        "def apply_random_forest(x_train, y_train, x_test, y_test):\n",
        "  rf = RandomForestRegressor(bootstrap= True, max_depth= None, max_features= 'sqrt', min_samples_leaf= 4, min_samples_split= 5, n_estimators= 5)\n",
        "  rf.fit(x_train, y_train)\n",
        "  \n",
        "  print(rf.score(x_test, y_test))\n",
        "  return rf"
      ]
    },
    {
      "cell_type": "code",
      "execution_count": null,
      "metadata": {
        "colab": {
          "base_uri": "https://localhost:8080/"
        },
        "id": "72VIDUB2tCpi",
        "outputId": "f653fc69-4b9c-4fc9-f52b-5f304e9e37fe"
      },
      "outputs": [
        {
          "output_type": "stream",
          "name": "stdout",
          "text": [
            "0.9134040063373523\n"
          ]
        },
        {
          "output_type": "execute_result",
          "data": {
            "text/plain": [
              "RandomForestRegressor(max_features='sqrt', min_samples_leaf=4,\n",
              "                      min_samples_split=5, n_estimators=3)"
            ]
          },
          "metadata": {},
          "execution_count": 96
        }
      ],
      "source": [
        "apply_random_forest(x_train, y_train['Yaw'],  x_test, y_test['Yaw'])"
      ]
    },
    {
      "cell_type": "code",
      "execution_count": null,
      "metadata": {
        "colab": {
          "base_uri": "https://localhost:8080/"
        },
        "id": "EzACfLz3yWbA",
        "outputId": "cd9320b6-9f47-4807-88d8-abcf5b8d68f5"
      },
      "outputs": [
        {
          "output_type": "stream",
          "name": "stdout",
          "text": [
            "0.4231830652644816\n"
          ]
        },
        {
          "output_type": "execute_result",
          "data": {
            "text/plain": [
              "RandomForestRegressor(max_features='sqrt', min_samples_leaf=4,\n",
              "                      min_samples_split=5, n_estimators=3)"
            ]
          },
          "metadata": {},
          "execution_count": 95
        }
      ],
      "source": [
        "apply_random_forest(x_train, y_train['Pitch'],  x_test, y_test['Pitch'])"
      ]
    },
    {
      "cell_type": "code",
      "execution_count": null,
      "metadata": {
        "colab": {
          "base_uri": "https://localhost:8080/"
        },
        "id": "MtpiiTJPzLMk",
        "outputId": "ded89c07-d9a3-4cab-9235-6d0c0b4bcf86"
      },
      "outputs": [
        {
          "output_type": "stream",
          "name": "stdout",
          "text": [
            "-0.7326914786737546\n"
          ]
        },
        {
          "output_type": "execute_result",
          "data": {
            "text/plain": [
              "RandomForestRegressor(max_features='sqrt', min_samples_leaf=4,\n",
              "                      min_samples_split=5, n_estimators=3)"
            ]
          },
          "metadata": {},
          "execution_count": 94
        }
      ],
      "source": [
        "apply_random_forest(x_train, y_train['Roll'],  x_test, y_test['Roll'])"
      ]
    },
    {
      "cell_type": "code",
      "source": [
        "multi_label_rf = apply_random_forest(x_train, y_train,  x_test, y_test)"
      ],
      "metadata": {
        "colab": {
          "base_uri": "https://localhost:8080/"
        },
        "id": "YjYU8IGCdohs",
        "outputId": "eb1ee59f-f030-473f-e69d-938454417daf"
      },
      "execution_count": null,
      "outputs": [
        {
          "output_type": "stream",
          "name": "stdout",
          "text": [
            "0.6396484417873979\n"
          ]
        }
      ]
    },
    {
      "cell_type": "markdown",
      "source": [
        "- Dump random forest model\n"
      ],
      "metadata": {
        "id": "SvXzlsypkEso"
      }
    },
    {
      "cell_type": "code",
      "source": [
        "with open('/content/drive/MyDrive/ITI/Projects/Gaze Estimation - ml1 project/multi_label_rf_4.pkl', 'wb') as file:\n",
        "        pickle.dump(multi_label_rf, file)"
      ],
      "metadata": {
        "id": "cDyOSy5JkAWr"
      },
      "execution_count": null,
      "outputs": []
    },
    {
      "cell_type": "markdown",
      "metadata": {
        "id": "QLxuzYThDYDu"
      },
      "source": [
        "-------------------------------------------------"
      ]
    },
    {
      "cell_type": "markdown",
      "metadata": {
        "id": "AaYSmA05DgDT"
      },
      "source": [
        "### Train KNN with best params"
      ]
    },
    {
      "cell_type": "markdown",
      "metadata": {
        "id": "XGsetSeGwINK"
      },
      "source": [
        "knn for yaw"
      ]
    },
    {
      "cell_type": "code",
      "execution_count": null,
      "metadata": {
        "id": "Hp3--h1B_jG2"
      },
      "outputs": [],
      "source": [
        "def apply_knn(x_train, y_train, x_test, y_test, n_neighbors):\n",
        "  knn_model = KNeighborsRegressor(n_neighbors=n_neighbors, leaf_size=15).fit(x_train, y_train)\n",
        "  score_knn = knn_model.score(x_test, y_test)\n",
        "  print(score_knn)\n",
        "  return knn_model"
      ]
    },
    {
      "cell_type": "code",
      "execution_count": null,
      "metadata": {
        "colab": {
          "base_uri": "https://localhost:8080/"
        },
        "id": "Cc0MsHbNwH43",
        "outputId": "5c5a28f2-85ed-413e-a64a-1a9d257fe454"
      },
      "outputs": [
        {
          "output_type": "stream",
          "name": "stdout",
          "text": [
            "0.9232404511594925\n"
          ]
        },
        {
          "output_type": "execute_result",
          "data": {
            "text/plain": [
              "KNeighborsRegressor(leaf_size=15, n_neighbors=9)"
            ]
          },
          "metadata": {},
          "execution_count": 129
        }
      ],
      "source": [
        "apply_knn(x_train, y_train['Yaw'], x_test, y_test['Yaw'], 9)"
      ]
    },
    {
      "cell_type": "code",
      "execution_count": null,
      "metadata": {
        "colab": {
          "base_uri": "https://localhost:8080/"
        },
        "id": "NIGNEXVVDmIm",
        "outputId": "ab531dfc-74a6-432b-a173-baad95720c02"
      },
      "outputs": [
        {
          "output_type": "stream",
          "name": "stdout",
          "text": [
            "0.5744664760933924\n"
          ]
        },
        {
          "output_type": "execute_result",
          "data": {
            "text/plain": [
              "KNeighborsRegressor(leaf_size=15, n_neighbors=60)"
            ]
          },
          "metadata": {},
          "execution_count": 51
        }
      ],
      "source": [
        "apply_knn(x_train, y_train['Pitch'], x_test, y_test['Pitch'], 60)"
      ]
    },
    {
      "cell_type": "code",
      "execution_count": null,
      "metadata": {
        "colab": {
          "base_uri": "https://localhost:8080/"
        },
        "id": "CQfPCB9hx_KE",
        "outputId": "0387c91f-ab3c-4909-cd9e-1f2d39606a82"
      },
      "outputs": [
        {
          "output_type": "stream",
          "name": "stdout",
          "text": [
            "0.40464472828372655\n"
          ]
        },
        {
          "output_type": "execute_result",
          "data": {
            "text/plain": [
              "KNeighborsRegressor(leaf_size=15, n_neighbors=10)"
            ]
          },
          "metadata": {},
          "execution_count": 52
        }
      ],
      "source": [
        "apply_knn(x_train, y_train['Roll'], x_test, y_test['Roll'], 10)"
      ]
    },
    {
      "cell_type": "code",
      "source": [
        "multi_label_knn = apply_knn(x_train, y_train, x_test, y_test, 17)"
      ],
      "metadata": {
        "colab": {
          "base_uri": "https://localhost:8080/"
        },
        "id": "xJXbK4nseP6q",
        "outputId": "08fc65aa-eb48-4ad5-d80c-7bc3717e1369"
      },
      "execution_count": null,
      "outputs": [
        {
          "output_type": "stream",
          "name": "stdout",
          "text": [
            "0.779356695810694\n"
          ]
        }
      ]
    },
    {
      "cell_type": "code",
      "source": [
        "with open('/content/drive/MyDrive/ITI/Projects/Gaze Estimation - ml1 project/multi_label_knn_3.pkl', 'wb') as file:\n",
        "        pickle.dump(multi_label_knn, file)"
      ],
      "metadata": {
        "id": "3kNnlAtlk7kG"
      },
      "execution_count": null,
      "outputs": []
    },
    {
      "cell_type": "markdown",
      "metadata": {
        "id": "q7ZkWK6nDeZL"
      },
      "source": [
        "----------------------------------------------------"
      ]
    },
    {
      "cell_type": "markdown",
      "source": [
        "### Train SVR"
      ],
      "metadata": {
        "id": "4EZhW8xhexFh"
      }
    },
    {
      "cell_type": "code",
      "source": [
        "def apply_svr(x_train, y_train, x_test, y_test, gamma=0.1, c=1):\n",
        "  if len(y_train.shape) > 1:\n",
        "    model = MultiOutputRegressor(SVR(gamma= gamma, C=c)).fit(x_train, y_train)\n",
        "  else:\n",
        "    model = SVR(gamma= gamma).fit(x_train, y_train)\n",
        " \n",
        "  train_score_svr = model.score(x_train, y_train)\n",
        "  test_score_svr = model.score(x_test, y_test)\n",
        "  print('train_score_svr:  ', train_score_svr)\n",
        "  print('test_score_svr:  ', test_score_svr)\n",
        "\n",
        "  return model"
      ],
      "metadata": {
        "id": "v-w2FdJ6eas5"
      },
      "execution_count": 16,
      "outputs": []
    },
    {
      "cell_type": "code",
      "source": [
        "svr_yaw = apply_svr(x_train, y_train['Yaw'], x_test, y_test['Yaw'], 0.01, 0.4)"
      ],
      "metadata": {
        "colab": {
          "base_uri": "https://localhost:8080/"
        },
        "id": "_XXsfzqvfPJF",
        "outputId": "0fdc6647-36a7-4910-eadc-e9a95a158f66"
      },
      "execution_count": 84,
      "outputs": [
        {
          "output_type": "stream",
          "name": "stdout",
          "text": [
            "train_score_svr:   0.8844642867091885\n",
            "test_score_svr:   0.7334768455247092\n"
          ]
        }
      ]
    },
    {
      "cell_type": "code",
      "source": [
        "svr_pitch = apply_svr(x_train, y_train['Pitch'], x_test, y_test['Pitch'], 0.009, 0.5)"
      ],
      "metadata": {
        "colab": {
          "base_uri": "https://localhost:8080/"
        },
        "id": "6L3hM6kufO_z",
        "outputId": "da6c1f03-41ce-4000-bdd0-367f8c198f74"
      },
      "execution_count": 91,
      "outputs": [
        {
          "output_type": "stream",
          "name": "stdout",
          "text": [
            "train_score_svr:   0.16962126739470706\n",
            "test_score_svr:   0.12206298342634614\n"
          ]
        }
      ]
    },
    {
      "cell_type": "code",
      "source": [
        "svr_roll = apply_svr(x_train, y_train['Roll'], x_test, y_test['Roll'], 0.002, 0.4)"
      ],
      "metadata": {
        "colab": {
          "base_uri": "https://localhost:8080/"
        },
        "id": "JZNYXAADfUma",
        "outputId": "a6b26e3b-720f-4a32-e7b6-8981228369bb"
      },
      "execution_count": 106,
      "outputs": [
        {
          "output_type": "stream",
          "name": "stdout",
          "text": [
            "train_score_svr:   0.31524258899127566\n",
            "test_score_svr:   0.18346462829318377\n"
          ]
        }
      ]
    },
    {
      "cell_type": "code",
      "source": [
        "multi_label_svr = apply_svr(x_train, y_train, x_test, y_test, 0.007, 1)"
      ],
      "metadata": {
        "colab": {
          "base_uri": "https://localhost:8080/"
        },
        "id": "WlKwWMaffVMK",
        "outputId": "2c63fdd3-7748-4ef5-b57a-ba27a6447724"
      },
      "execution_count": 17,
      "outputs": [
        {
          "output_type": "stream",
          "name": "stdout",
          "text": [
            "train_score_svr:   0.45062179187693135\n",
            "test_score_svr:   0.3422897991652572\n"
          ]
        }
      ]
    },
    {
      "cell_type": "code",
      "source": [
        "with open('/content/drive/MyDrive/ITI/Projects/Gaze Estimation - ml1 project/multi_label_svr6.pkl', 'wb') as file:\n",
        "        pickle.dump(multi_label_svr, file)"
      ],
      "metadata": {
        "id": "k4ekEurT4IlS"
      },
      "execution_count": 18,
      "outputs": []
    },
    {
      "cell_type": "code",
      "source": [
        "with open('/content/drive/MyDrive/ITI/Projects/Gaze Estimation - ml1 project/specific_model/svr_pitch1.pkl', 'wb') as file:\n",
        "        pickle.dump(svr_pitch, file)"
      ],
      "metadata": {
        "id": "OY7OHFWYfP5F"
      },
      "execution_count": 116,
      "outputs": []
    },
    {
      "cell_type": "code",
      "source": [
        "with open('/content/drive/MyDrive/ITI/Projects/Gaze Estimation - ml1 project/specific_model/svr_yaw1.pkl', 'wb') as file:\n",
        "        pickle.dump(svr_yaw, file)"
      ],
      "metadata": {
        "id": "hh2UoxPQi2E7"
      },
      "execution_count": 117,
      "outputs": []
    },
    {
      "cell_type": "markdown",
      "source": [
        "### Train xgboost"
      ],
      "metadata": {
        "id": "mbkZaEW3WMX6"
      }
    },
    {
      "cell_type": "code",
      "source": [
        "def apply_xgb(x_train, y_train, x_test, y_test, max_depth = 5, alpha = 10, n_estimators = 10):\n",
        "  if len(y_train.shape) > 1:\n",
        "    model = MultiOutputRegressor(xgb.XGBRegressor(max_depth = max_depth, alpha = alpha, n_estimators = n_estimators)).fit(x_train, y_train)\n",
        "              \n",
        "  else:\n",
        "    model = xgb.XGBRegressor( max_depth = max_depth, alpha = alpha, n_estimators = n_estimators).fit(x_train, y_train)\n",
        "  train_score = model.score(x_train, y_train)\n",
        "  test_score = model.score(x_test, y_test)\n",
        "\n",
        "  print('train_score_svr:  ', train_score)\n",
        "  print('test_score_svr:  ', test_score)\n",
        "\n",
        "  return model"
      ],
      "metadata": {
        "id": "q9KEGWYpcFJ1"
      },
      "execution_count": 134,
      "outputs": []
    },
    {
      "cell_type": "code",
      "source": [
        "xg_reg_pitch = apply_xgb(x_train, y_train['Pitch'], x_test, y_test['Pitch'], n_estimators=7, max_depth = 7)"
      ],
      "metadata": {
        "colab": {
          "base_uri": "https://localhost:8080/"
        },
        "id": "B6rwNW2kWKKW",
        "outputId": "a7d6d210-3f68-488d-a5be-05bbc40b8bfe"
      },
      "execution_count": 195,
      "outputs": [
        {
          "output_type": "stream",
          "name": "stdout",
          "text": [
            "[07:48:08] WARNING: /workspace/src/objective/regression_obj.cu:152: reg:linear is now deprecated in favor of reg:squarederror.\n",
            "train_score_svr:   0.24809960447254042\n",
            "test_score_svr:   -1.128499722043288\n"
          ]
        }
      ]
    },
    {
      "cell_type": "code",
      "source": [
        "xg_reg_yaw = apply_xgb(x_train, y_train['Yaw'], x_test, y_test['Yaw'])"
      ],
      "metadata": {
        "colab": {
          "base_uri": "https://localhost:8080/"
        },
        "id": "L2m11e1WZkfD",
        "outputId": "cbcb81c9-0f2c-42c0-93f3-affa6fb3db54"
      },
      "execution_count": null,
      "outputs": [
        {
          "output_type": "stream",
          "name": "stdout",
          "text": [
            "[06:55:52] WARNING: /workspace/src/objective/regression_obj.cu:152: reg:linear is now deprecated in favor of reg:squarederror.\n",
            "0.8305892106156705\n"
          ]
        }
      ]
    },
    {
      "cell_type": "code",
      "source": [
        "xg_reg_roll = apply_xgb(x_train, y_train['Roll'], x_test, y_test['Roll'], n_estimators=12, max_depth = 3)"
      ],
      "metadata": {
        "colab": {
          "base_uri": "https://localhost:8080/"
        },
        "id": "WpkGVz8ebVTo",
        "outputId": "9ce4ae88-3ab4-4a4a-d9e0-fcae209b02ae"
      },
      "execution_count": 161,
      "outputs": [
        {
          "output_type": "stream",
          "name": "stdout",
          "text": [
            "[07:41:59] WARNING: /workspace/src/objective/regression_obj.cu:152: reg:linear is now deprecated in favor of reg:squarederror.\n",
            "train_score_svr:   0.6064690307731935\n",
            "test_score_svr:   0.5405562400414938\n"
          ]
        }
      ]
    },
    {
      "cell_type": "code",
      "source": [
        "multi_label_xg_reg = apply_xgb(x_train, y_train, x_test, y_test, n_estimators=20, max_depth = 5)"
      ],
      "metadata": {
        "colab": {
          "base_uri": "https://localhost:8080/"
        },
        "id": "-ewBC6twb4gc",
        "outputId": "13848e00-73b1-4279-8a99-ac1118655827"
      },
      "execution_count": 175,
      "outputs": [
        {
          "output_type": "stream",
          "name": "stdout",
          "text": [
            "[07:45:06] WARNING: /workspace/src/objective/regression_obj.cu:152: reg:linear is now deprecated in favor of reg:squarederror.\n",
            "[07:45:10] WARNING: /workspace/src/objective/regression_obj.cu:152: reg:linear is now deprecated in favor of reg:squarederror.\n",
            "[07:45:13] WARNING: /workspace/src/objective/regression_obj.cu:152: reg:linear is now deprecated in favor of reg:squarederror.\n",
            "train_score_svr:   0.8844489776004206\n",
            "test_score_svr:   -0.42335929533668826\n"
          ]
        }
      ]
    },
    {
      "cell_type": "code",
      "source": [
        "with open('/content/drive/MyDrive/ITI/Projects/Gaze Estimation - ml1 project/multi_label_xg_reg1.pkl', 'wb') as file:\n",
        "        pickle.dump(multi_label_xg_reg, file)"
      ],
      "metadata": {
        "id": "Ta7x4uGDc4pY"
      },
      "execution_count": null,
      "outputs": []
    },
    {
      "cell_type": "code",
      "source": [
        "with open('/content/drive/MyDrive/ITI/Projects/Gaze Estimation - ml1 project/specific_model/xg_reg_roll2.pkl', 'wb') as file:\n",
        "        pickle.dump(xg_reg_roll, file)"
      ],
      "metadata": {
        "id": "fxr_tCyiep1s"
      },
      "execution_count": 176,
      "outputs": []
    },
    {
      "cell_type": "markdown",
      "metadata": {
        "id": "TewKcKDUGpA1"
      },
      "source": [
        "\n",
        "\n",
        "---\n",
        "\n",
        "\n",
        "## Model Testing: Apply on video"
      ]
    },
    {
      "cell_type": "code",
      "source": [
        "def center_feature(feature):\n",
        "  for i in range(len(feature)):\n",
        "    copy = feature.copy()\n",
        "    if i % 2 == 0:\n",
        "      feature[i] = feature[i] - copy[2]\n",
        "    \n",
        "    else:\n",
        "      feature[i] = feature[i] - copy[3]"
      ],
      "metadata": {
        "id": "ZmpOgJKNI_rX"
      },
      "execution_count": 19,
      "outputs": []
    },
    {
      "cell_type": "code",
      "execution_count": 20,
      "metadata": {
        "id": "3T9apFUVLUPi"
      },
      "outputs": [],
      "source": [
        "def draw_axis(img, pitch,yaw,roll, tdx=None, tdy=None, size = 100):\n",
        "\n",
        "    yaw = -yaw\n",
        "    if tdx != None and tdy != None:\n",
        "        tdx = tdx\n",
        "        tdy = tdy\n",
        "    else:\n",
        "        height, width = img.shape[:2]\n",
        "        tdx = width / 2\n",
        "        tdy = height / 2\n",
        "\n",
        "    # X-Axis pointing to right. drawn in red\n",
        "    x1 = size * (cos(yaw) * cos(roll)) + tdx\n",
        "    y1 = size * (cos(pitch) * sin(roll) + cos(roll) * sin(pitch) * sin(yaw)) + tdy\n",
        "\n",
        "    # Y-Axis | drawn in green\n",
        "    #        v\n",
        "    x2 = size * (-cos(yaw) * sin(roll)) + tdx\n",
        "    y2 = size * (cos(pitch) * cos(roll) - sin(pitch) * sin(yaw) * sin(roll)) + tdy\n",
        "\n",
        "    # Z-Axis (out of the screen) drawn in blue\n",
        "    x3 = size * (sin(yaw)) + tdx\n",
        "    y3 = size * (-cos(yaw) * sin(pitch)) + tdy\n",
        "\n",
        "    cv2.line(img, (int(tdx), int(tdy)), (int(x1),int(y1)),(0,0,255),3)\n",
        "    cv2.line(img, (int(tdx), int(tdy)), (int(x2),int(y2)),(0,255,0),3)\n",
        "    cv2.line(img, (int(tdx), int(tdy)), (int(x3),int(y3)),(255,0,0),2)\n",
        "\n",
        "    return img"
      ]
    },
    {
      "cell_type": "code",
      "execution_count": 21,
      "metadata": {
        "id": "9K4p9uECKOvM"
      },
      "outputs": [],
      "source": [
        "# Load pretrained model multilabel \n",
        "pkl_filename='/content/drive/MyDrive/ITI/Projects/Gaze Estimation - ml1 project/multi_label_svr6.pkl'\n",
        "with open(pkl_filename, 'rb') as file:\n",
        "    pretrained_model = pickle.load(file)"
      ]
    },
    {
      "cell_type": "code",
      "source": [
        "# Load pretrained model for each label\n",
        "yaw_pkl_filename   = '/content/drive/MyDrive/ITI/Projects/Gaze Estimation - ml1 project/specific_model/svr_yaw1.pkl'\n",
        "pitch_pkl_filename = '/content/drive/MyDrive/ITI/Projects/Gaze Estimation - ml1 project/specific_model/svr_pitch1.pkl'\n",
        "roll_pkl_filename  = '/content/drive/MyDrive/ITI/Projects/Gaze Estimation - ml1 project/specific_model/xg_reg_roll2.pkl'\n",
        "\n",
        "with open(yaw_pkl_filename, 'rb') as file:\n",
        "    pretrained_model_yaw = pickle.load(file)\n",
        "\n",
        "with open(pitch_pkl_filename, 'rb') as file:\n",
        "    pretrained_model_pitch = pickle.load(file)\n",
        "\n",
        "with open(roll_pkl_filename, 'rb') as file:\n",
        "  pretrained_model_roll = pickle.load(file)"
      ],
      "metadata": {
        "colab": {
          "base_uri": "https://localhost:8080/"
        },
        "id": "w2jDnBAroy0j",
        "outputId": "e7c3beff-bf20-4ebe-e721-91eed7556f45"
      },
      "execution_count": 202,
      "outputs": [
        {
          "output_type": "stream",
          "name": "stdout",
          "text": [
            "[07:57:53] WARNING: /workspace/src/objective/regression_obj.cu:152: reg:linear is now deprecated in favor of reg:squarederror.\n"
          ]
        }
      ]
    },
    {
      "cell_type": "code",
      "execution_count": 22,
      "metadata": {
        "id": "oCF22rbDHqJ7"
      },
      "outputs": [],
      "source": [
        "mp_face_mesh = mp.solutions.face_mesh\n",
        "face_mesh = mp_face_mesh.FaceMesh(min_detection_confidence=0.5, min_tracking_confidence=0.5)\n",
        "mp_drawing = mp.solutions.drawing_utils\n",
        "drawing_spec = mp_drawing.DrawingSpec(thickness=1, circle_radius=1)\n",
        "mp_drawing_styles = mp.solutions.drawing_styles\n"
      ]
    },
    {
      "cell_type": "code",
      "execution_count": 23,
      "metadata": {
        "id": "C04DK0PtFicR",
        "colab": {
          "base_uri": "https://localhost:8080/"
        },
        "outputId": "89cceeb2-7299-45fe-9b5b-181cdc4692c2"
      },
      "outputs": [
        {
          "output_type": "stream",
          "name": "stdout",
          "text": [
            "done\n"
          ]
        }
      ],
      "source": [
        "import matplotlib.pyplot as plt\n",
        "cap = cv2.VideoCapture('/content/drive/MyDrive/ITI/Projects/Gaze Estimation - ml1 project/trial.mp4')\n",
        "i = 0\n",
        "frame_width = int(cap.get(cv2.CAP_PROP_FRAME_WIDTH))\n",
        "frame_height = int(cap.get(cv2.CAP_PROP_FRAME_HEIGHT))\n",
        "fps = int(cap.get(cv2.CAP_PROP_FPS))\n",
        "\n",
        "# initialize the FourCC and a video writer object\n",
        "# fourcc = cv2.VideoWriter_fourcc(*'mp4v')\n",
        "fourcc = cv2.VideoWriter_fourcc('M','J','P','G')   \n",
        "out = cv2.VideoWriter('final_trial_svr.avi', fourcc, fps, (frame_width, frame_height))\n",
        " \n",
        "while cap.isOpened():\n",
        "    ret, image = cap.read()\n",
        "\n",
        "    if not ret:\n",
        "      break\n",
        "\n",
        "    # Flip the image horizontally for a later selfie-view display\n",
        "    # Also convert the color space from BGR to RGB\n",
        "    image = cv2.cvtColor(cv2.flip(image, 1), cv2.COLOR_BGR2RGB)\n",
        "\n",
        "    # To improve performance\n",
        "    image.flags.writeable = False\n",
        "    \n",
        "    # Get the result\n",
        "    results = face_mesh.process(image)\n",
        "    \n",
        "    # To improve performance\n",
        "    image.flags.writeable = True\n",
        "    \n",
        "    # Convert the color space from RGB to BGR\n",
        "    image = cv2.cvtColor(image, cv2.COLOR_RGB2BGR)\n",
        " \n",
        "    # for landmark in face.landmark:\n",
        "    img_h, img_w, img_c = image.shape\n",
        "    face_3d = []\n",
        "    face_2d = []\n",
        "\n",
        "    if results.multi_face_landmarks != None:\n",
        "        for face_landmarks in results.multi_face_landmarks:\n",
        "            featuers = []\n",
        "            for idx, lm in enumerate(face_landmarks.landmark):\n",
        "                if idx == 1:\n",
        "                    nose_2d = (lm.x * img_w, lm.y * img_h)\n",
        "                    nose_3d = (lm.x * img_w, lm.y * img_h, lm.z * 3000)\n",
        "\n",
        "                featuers.append(lm.x)\n",
        "                featuers.append(lm.y)\n",
        "\n",
        "            # Apply our model\n",
        "            nose_pt = (int(nose_2d[0]), int(nose_2d[1]))\n",
        "            featuers = np.array(featuers).reshape(1,-1)\n",
        "            # center_feature(featuers[0])\n",
        "            featuers_df = pd.DataFrame(featuers, columns=x_train.columns)\n",
        "\n",
        "            ################ONE MODEL######################################\n",
        "            y_pred = pretrained_model.predict(featuers_df)\n",
        "\n",
        "            pitch = y_pred[0][0]\n",
        "            yaw = y_pred[0][1]\n",
        "            roll = y_pred[0][2]\n",
        "\n",
        "            ################THREE MODELS######################################\n",
        "            # yaw_pred = pretrained_model_yaw.predict(featuers_df)\n",
        "            # pitch_pred = pretrained_model_pitch.predict(featuers_df)\n",
        "            # roll_pred = pretrained_model_roll.predict(featuers_df)\n",
        "\n",
        "            # yaw = yaw_pred[0]\n",
        "            # pitch = pitch_pred[0]\n",
        "            # roll = roll_pred[0]\n",
        "\n",
        "\n",
        "            image = draw_axis(image,pitch,yaw,roll,nose_pt[0],nose_pt[1])\n",
        "\n",
        "            # Add the text on the image\n",
        "            cv2.putText(image, \"Yaw: \" + str(np.round(yaw,2)), (500, 50), cv2.FONT_HERSHEY_SIMPLEX, 1, (0, 0, 255), 2)\n",
        "            cv2.putText(image, \"Pitch: \" + str(np.round(pitch,2)), (500, 100), cv2.FONT_HERSHEY_SIMPLEX, 1, (0, 0, 255), 2)\n",
        "            cv2.putText(image, \"Roll: \" + str(np.round(roll,2)), (500, 150), cv2.FONT_HERSHEY_SIMPLEX, 1, (0, 0, 255), 2)\n",
        "        \n",
        "       \n",
        "    out.write(image)\n",
        "\n",
        "    if cv2.waitKey(20) == ord('q'):\n",
        "        break\n",
        "\n",
        "    i+=1\n",
        "\n",
        "cv2.destroyAllWindows()\n",
        "cap.release()\n",
        "print('done')\n"
      ]
    },
    {
      "cell_type": "markdown",
      "source": [
        "1-choose one model\n",
        "2-pickle it\n",
        "3-apply on the vid\n",
        "4- save vid\n",
        "start scrape"
      ],
      "metadata": {
        "id": "DJGDaSg2WJsF"
      }
    }
  ],
  "metadata": {
    "colab": {
      "collapsed_sections": [
        "7SWUbTDgFIBt",
        "JZr60Ce704XJ",
        "AaYSmA05DgDT",
        "mbkZaEW3WMX6"
      ],
      "name": "Gaze estimation - Machine learning",
      "provenance": []
    },
    "kernelspec": {
      "display_name": "Python 3",
      "name": "python3"
    },
    "language_info": {
      "name": "python"
    }
  },
  "nbformat": 4,
  "nbformat_minor": 0
}
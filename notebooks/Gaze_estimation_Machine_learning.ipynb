{
  "nbformat": 4,
  "nbformat_minor": 0,
  "metadata": {
    "colab": {
      "name": "Gaze estimation - Machine learning",
      "provenance": [],
      "collapsed_sections": [
        "C7-g3EsdgT3F",
        "LKmnExYAc-qG",
        "Bbswgb35Y1Po",
        "vewdvxj9oRsx",
        "G69aXtskoNl9"
      ],
      "authorship_tag": "ABX9TyPWtMxikrCpe7F4g5aWgNvF",
      "include_colab_link": true
    },
    "kernelspec": {
      "name": "python3",
      "display_name": "Python 3"
    },
    "language_info": {
      "name": "python"
    }
  },
  "cells": [
    {
      "cell_type": "markdown",
      "metadata": {
        "id": "view-in-github",
        "colab_type": "text"
      },
      "source": [
        "<a href=\"https://colab.research.google.com/github/HadeerMahdy19/Gaze-Estimation-machine-learning/blob/main/notebooks/Gaze_estimation_Machine_learning.ipynb\" target=\"_parent\"><img src=\"https://colab.research.google.com/assets/colab-badge.svg\" alt=\"Open In Colab\"/></a>"
      ]
    },
    {
      "cell_type": "code",
      "execution_count": 65,
      "metadata": {
        "id": "qv9Vh1ysP3sX"
      },
      "outputs": [],
      "source": [
        "import numpy as np\n",
        "import pandas as pd\n",
        "from sklearn.tree import DecisionTreeRegressor\n",
        "from sklearn.ensemble import  RandomForestRegressor\n",
        "from sklearn.model_selection import cross_val_score\n",
        "from sklearn.model_selection import RepeatedKFold\n",
        "from sklearn import svm\n",
        "from sklearn.preprocessing import StandardScaler\n",
        "from sklearn import neighbors\n",
        "from sklearn import linear_model\n",
        "from sklearn.multioutput import MultiOutputRegressor\n"
      ]
    },
    {
      "cell_type": "code",
      "source": [
        "from google.colab import drive\n",
        "drive.mount('/content/drive')"
      ],
      "metadata": {
        "colab": {
          "base_uri": "https://localhost:8080/"
        },
        "id": "S26WGRb9R5_l",
        "outputId": "27eb29ec-40bf-4152-a589-5ee7213a4a19"
      },
      "execution_count": 3,
      "outputs": [
        {
          "output_type": "stream",
          "name": "stdout",
          "text": [
            "Mounted at /content/drive\n"
          ]
        }
      ]
    },
    {
      "cell_type": "markdown",
      "source": [
        "## Read Dataset"
      ],
      "metadata": {
        "id": "C7-g3EsdgT3F"
      }
    },
    {
      "cell_type": "code",
      "source": [
        "tes_data = pd.read_csv('/content/drive/MyDrive/ITI/Projects/Gaze Estimation - ml1 project/yaw_pitch_roll_dataset.csv')"
      ],
      "metadata": {
        "id": "VA8VLda-QAeY"
      },
      "execution_count": 9,
      "outputs": []
    },
    {
      "cell_type": "code",
      "source": [
        "data"
      ],
      "metadata": {
        "colab": {
          "base_uri": "https://localhost:8080/",
          "height": 424
        },
        "id": "FDj53D_nWg4r",
        "outputId": "9f609412-c09d-4555-aafc-4d62e3777bcd"
      },
      "execution_count": 10,
      "outputs": [
        {
          "output_type": "execute_result",
          "data": {
            "text/plain": [
              "         x     y     z        yaw      pitch       roll         img\n",
              "0     33.0  25.0  34.0   1.044306 -22.874239   4.908886  image00002\n",
              "1     55.0  41.0  38.0  68.155240  26.932743  17.243670  image00004\n",
              "2     49.0  29.0  28.0  50.485413 -10.579652 -13.570645  image00006\n",
              "3     38.0  29.0  25.0  17.143373 -10.048455 -21.392782  image00008\n",
              "4     55.0  16.0  13.0  68.640550 -50.544582 -59.207973  image00010\n",
              "...    ...   ...   ...        ...        ...        ...         ...\n",
              "1995  31.0  29.0  35.0  -4.035367 -11.293093   6.022806  image04358\n",
              "1996   5.0  28.0  36.0 -81.288440 -13.327947  10.081747  image04363\n",
              "1997  60.0   5.0   4.0  82.005560 -82.961685 -86.483290  image04364\n",
              "1998  10.0  24.0  41.0 -68.249340 -24.090857  25.869925  image04365\n",
              "1999  29.0  32.0  32.0 -10.320475  -0.891077  -1.406394  image04375\n",
              "\n",
              "[2000 rows x 7 columns]"
            ],
            "text/html": [
              "\n",
              "  <div id=\"df-d5b5487b-3833-4fd4-8e2e-7678d4a3621f\">\n",
              "    <div class=\"colab-df-container\">\n",
              "      <div>\n",
              "<style scoped>\n",
              "    .dataframe tbody tr th:only-of-type {\n",
              "        vertical-align: middle;\n",
              "    }\n",
              "\n",
              "    .dataframe tbody tr th {\n",
              "        vertical-align: top;\n",
              "    }\n",
              "\n",
              "    .dataframe thead th {\n",
              "        text-align: right;\n",
              "    }\n",
              "</style>\n",
              "<table border=\"1\" class=\"dataframe\">\n",
              "  <thead>\n",
              "    <tr style=\"text-align: right;\">\n",
              "      <th></th>\n",
              "      <th>x</th>\n",
              "      <th>y</th>\n",
              "      <th>z</th>\n",
              "      <th>yaw</th>\n",
              "      <th>pitch</th>\n",
              "      <th>roll</th>\n",
              "      <th>img</th>\n",
              "    </tr>\n",
              "  </thead>\n",
              "  <tbody>\n",
              "    <tr>\n",
              "      <th>0</th>\n",
              "      <td>33.0</td>\n",
              "      <td>25.0</td>\n",
              "      <td>34.0</td>\n",
              "      <td>1.044306</td>\n",
              "      <td>-22.874239</td>\n",
              "      <td>4.908886</td>\n",
              "      <td>image00002</td>\n",
              "    </tr>\n",
              "    <tr>\n",
              "      <th>1</th>\n",
              "      <td>55.0</td>\n",
              "      <td>41.0</td>\n",
              "      <td>38.0</td>\n",
              "      <td>68.155240</td>\n",
              "      <td>26.932743</td>\n",
              "      <td>17.243670</td>\n",
              "      <td>image00004</td>\n",
              "    </tr>\n",
              "    <tr>\n",
              "      <th>2</th>\n",
              "      <td>49.0</td>\n",
              "      <td>29.0</td>\n",
              "      <td>28.0</td>\n",
              "      <td>50.485413</td>\n",
              "      <td>-10.579652</td>\n",
              "      <td>-13.570645</td>\n",
              "      <td>image00006</td>\n",
              "    </tr>\n",
              "    <tr>\n",
              "      <th>3</th>\n",
              "      <td>38.0</td>\n",
              "      <td>29.0</td>\n",
              "      <td>25.0</td>\n",
              "      <td>17.143373</td>\n",
              "      <td>-10.048455</td>\n",
              "      <td>-21.392782</td>\n",
              "      <td>image00008</td>\n",
              "    </tr>\n",
              "    <tr>\n",
              "      <th>4</th>\n",
              "      <td>55.0</td>\n",
              "      <td>16.0</td>\n",
              "      <td>13.0</td>\n",
              "      <td>68.640550</td>\n",
              "      <td>-50.544582</td>\n",
              "      <td>-59.207973</td>\n",
              "      <td>image00010</td>\n",
              "    </tr>\n",
              "    <tr>\n",
              "      <th>...</th>\n",
              "      <td>...</td>\n",
              "      <td>...</td>\n",
              "      <td>...</td>\n",
              "      <td>...</td>\n",
              "      <td>...</td>\n",
              "      <td>...</td>\n",
              "      <td>...</td>\n",
              "    </tr>\n",
              "    <tr>\n",
              "      <th>1995</th>\n",
              "      <td>31.0</td>\n",
              "      <td>29.0</td>\n",
              "      <td>35.0</td>\n",
              "      <td>-4.035367</td>\n",
              "      <td>-11.293093</td>\n",
              "      <td>6.022806</td>\n",
              "      <td>image04358</td>\n",
              "    </tr>\n",
              "    <tr>\n",
              "      <th>1996</th>\n",
              "      <td>5.0</td>\n",
              "      <td>28.0</td>\n",
              "      <td>36.0</td>\n",
              "      <td>-81.288440</td>\n",
              "      <td>-13.327947</td>\n",
              "      <td>10.081747</td>\n",
              "      <td>image04363</td>\n",
              "    </tr>\n",
              "    <tr>\n",
              "      <th>1997</th>\n",
              "      <td>60.0</td>\n",
              "      <td>5.0</td>\n",
              "      <td>4.0</td>\n",
              "      <td>82.005560</td>\n",
              "      <td>-82.961685</td>\n",
              "      <td>-86.483290</td>\n",
              "      <td>image04364</td>\n",
              "    </tr>\n",
              "    <tr>\n",
              "      <th>1998</th>\n",
              "      <td>10.0</td>\n",
              "      <td>24.0</td>\n",
              "      <td>41.0</td>\n",
              "      <td>-68.249340</td>\n",
              "      <td>-24.090857</td>\n",
              "      <td>25.869925</td>\n",
              "      <td>image04365</td>\n",
              "    </tr>\n",
              "    <tr>\n",
              "      <th>1999</th>\n",
              "      <td>29.0</td>\n",
              "      <td>32.0</td>\n",
              "      <td>32.0</td>\n",
              "      <td>-10.320475</td>\n",
              "      <td>-0.891077</td>\n",
              "      <td>-1.406394</td>\n",
              "      <td>image04375</td>\n",
              "    </tr>\n",
              "  </tbody>\n",
              "</table>\n",
              "<p>2000 rows × 7 columns</p>\n",
              "</div>\n",
              "      <button class=\"colab-df-convert\" onclick=\"convertToInteractive('df-d5b5487b-3833-4fd4-8e2e-7678d4a3621f')\"\n",
              "              title=\"Convert this dataframe to an interactive table.\"\n",
              "              style=\"display:none;\">\n",
              "        \n",
              "  <svg xmlns=\"http://www.w3.org/2000/svg\" height=\"24px\"viewBox=\"0 0 24 24\"\n",
              "       width=\"24px\">\n",
              "    <path d=\"M0 0h24v24H0V0z\" fill=\"none\"/>\n",
              "    <path d=\"M18.56 5.44l.94 2.06.94-2.06 2.06-.94-2.06-.94-.94-2.06-.94 2.06-2.06.94zm-11 1L8.5 8.5l.94-2.06 2.06-.94-2.06-.94L8.5 2.5l-.94 2.06-2.06.94zm10 10l.94 2.06.94-2.06 2.06-.94-2.06-.94-.94-2.06-.94 2.06-2.06.94z\"/><path d=\"M17.41 7.96l-1.37-1.37c-.4-.4-.92-.59-1.43-.59-.52 0-1.04.2-1.43.59L10.3 9.45l-7.72 7.72c-.78.78-.78 2.05 0 2.83L4 21.41c.39.39.9.59 1.41.59.51 0 1.02-.2 1.41-.59l7.78-7.78 2.81-2.81c.8-.78.8-2.07 0-2.86zM5.41 20L4 18.59l7.72-7.72 1.47 1.35L5.41 20z\"/>\n",
              "  </svg>\n",
              "      </button>\n",
              "      \n",
              "  <style>\n",
              "    .colab-df-container {\n",
              "      display:flex;\n",
              "      flex-wrap:wrap;\n",
              "      gap: 12px;\n",
              "    }\n",
              "\n",
              "    .colab-df-convert {\n",
              "      background-color: #E8F0FE;\n",
              "      border: none;\n",
              "      border-radius: 50%;\n",
              "      cursor: pointer;\n",
              "      display: none;\n",
              "      fill: #1967D2;\n",
              "      height: 32px;\n",
              "      padding: 0 0 0 0;\n",
              "      width: 32px;\n",
              "    }\n",
              "\n",
              "    .colab-df-convert:hover {\n",
              "      background-color: #E2EBFA;\n",
              "      box-shadow: 0px 1px 2px rgba(60, 64, 67, 0.3), 0px 1px 3px 1px rgba(60, 64, 67, 0.15);\n",
              "      fill: #174EA6;\n",
              "    }\n",
              "\n",
              "    [theme=dark] .colab-df-convert {\n",
              "      background-color: #3B4455;\n",
              "      fill: #D2E3FC;\n",
              "    }\n",
              "\n",
              "    [theme=dark] .colab-df-convert:hover {\n",
              "      background-color: #434B5C;\n",
              "      box-shadow: 0px 1px 3px 1px rgba(0, 0, 0, 0.15);\n",
              "      filter: drop-shadow(0px 1px 2px rgba(0, 0, 0, 0.3));\n",
              "      fill: #FFFFFF;\n",
              "    }\n",
              "  </style>\n",
              "\n",
              "      <script>\n",
              "        const buttonEl =\n",
              "          document.querySelector('#df-d5b5487b-3833-4fd4-8e2e-7678d4a3621f button.colab-df-convert');\n",
              "        buttonEl.style.display =\n",
              "          google.colab.kernel.accessAllowed ? 'block' : 'none';\n",
              "\n",
              "        async function convertToInteractive(key) {\n",
              "          const element = document.querySelector('#df-d5b5487b-3833-4fd4-8e2e-7678d4a3621f');\n",
              "          const dataTable =\n",
              "            await google.colab.kernel.invokeFunction('convertToInteractive',\n",
              "                                                     [key], {});\n",
              "          if (!dataTable) return;\n",
              "\n",
              "          const docLinkHtml = 'Like what you see? Visit the ' +\n",
              "            '<a target=\"_blank\" href=https://colab.research.google.com/notebooks/data_table.ipynb>data table notebook</a>'\n",
              "            + ' to learn more about interactive tables.';\n",
              "          element.innerHTML = '';\n",
              "          dataTable['output_type'] = 'display_data';\n",
              "          await google.colab.output.renderOutput(dataTable, element);\n",
              "          const docLink = document.createElement('div');\n",
              "          docLink.innerHTML = docLinkHtml;\n",
              "          element.appendChild(docLink);\n",
              "        }\n",
              "      </script>\n",
              "    </div>\n",
              "  </div>\n",
              "  "
            ]
          },
          "metadata": {},
          "execution_count": 10
        }
      ]
    },
    {
      "cell_type": "markdown",
      "source": [
        "## EDA\n",
        "- Find duplicates\n",
        "- Find Nulls\n"
      ],
      "metadata": {
        "id": "LKmnExYAc-qG"
      }
    },
    {
      "cell_type": "markdown",
      "source": [
        "No duplicates in the dataset"
      ],
      "metadata": {
        "id": "pjzt-F2OdGjU"
      }
    },
    {
      "cell_type": "code",
      "source": [
        "data.duplicated().sum()"
      ],
      "metadata": {
        "colab": {
          "base_uri": "https://localhost:8080/"
        },
        "id": "kxCs44kZdAGP",
        "outputId": "efbc2e8e-53a0-4ae8-85e0-07f27ea30597"
      },
      "execution_count": 25,
      "outputs": [
        {
          "output_type": "execute_result",
          "data": {
            "text/plain": [
              "0"
            ]
          },
          "metadata": {},
          "execution_count": 25
        }
      ]
    },
    {
      "cell_type": "markdown",
      "source": [
        "dataset statistic info"
      ],
      "metadata": {
        "id": "BgSSw2aWdKhr"
      }
    },
    {
      "cell_type": "code",
      "source": [
        "data.describe()"
      ],
      "metadata": {
        "colab": {
          "base_uri": "https://localhost:8080/",
          "height": 300
        },
        "id": "IqPRcuAqdM85",
        "outputId": "3728347c-4ddf-49ad-dd68-29c0d8785dcb"
      },
      "execution_count": 26,
      "outputs": [
        {
          "output_type": "execute_result",
          "data": {
            "text/plain": [
              "                 x            y            z          yaw        pitch  \\\n",
              "count  2000.000000  2000.000000  2000.000000  2000.000000  2000.000000   \n",
              "mean     32.800000    30.557000    32.099000     0.806547    -6.138931   \n",
              "std      12.168814     7.114426     7.778589    37.482043    35.988570   \n",
              "min      -1.000000    -1.000000    -1.000000  -351.226930  -713.745100   \n",
              "25%      27.000000    28.000000    29.000000   -16.859081   -14.811133   \n",
              "50%      33.000000    30.000000    32.000000     1.128854    -7.005438   \n",
              "75%      39.000000    33.000000    35.000000    19.177740     2.302842   \n",
              "max      66.000000    66.000000    66.000000   187.786940   893.746500   \n",
              "\n",
              "              roll  \n",
              "count  2000.000000  \n",
              "mean     -1.975500  \n",
              "std      41.024606  \n",
              "min    -972.272800  \n",
              "25%     -10.015671  \n",
              "50%      -1.036931  \n",
              "75%       7.699269  \n",
              "max     333.999700  "
            ],
            "text/html": [
              "\n",
              "  <div id=\"df-4f5031f5-c4b2-423d-85bd-3e198e097bfe\">\n",
              "    <div class=\"colab-df-container\">\n",
              "      <div>\n",
              "<style scoped>\n",
              "    .dataframe tbody tr th:only-of-type {\n",
              "        vertical-align: middle;\n",
              "    }\n",
              "\n",
              "    .dataframe tbody tr th {\n",
              "        vertical-align: top;\n",
              "    }\n",
              "\n",
              "    .dataframe thead th {\n",
              "        text-align: right;\n",
              "    }\n",
              "</style>\n",
              "<table border=\"1\" class=\"dataframe\">\n",
              "  <thead>\n",
              "    <tr style=\"text-align: right;\">\n",
              "      <th></th>\n",
              "      <th>x</th>\n",
              "      <th>y</th>\n",
              "      <th>z</th>\n",
              "      <th>yaw</th>\n",
              "      <th>pitch</th>\n",
              "      <th>roll</th>\n",
              "    </tr>\n",
              "  </thead>\n",
              "  <tbody>\n",
              "    <tr>\n",
              "      <th>count</th>\n",
              "      <td>2000.000000</td>\n",
              "      <td>2000.000000</td>\n",
              "      <td>2000.000000</td>\n",
              "      <td>2000.000000</td>\n",
              "      <td>2000.000000</td>\n",
              "      <td>2000.000000</td>\n",
              "    </tr>\n",
              "    <tr>\n",
              "      <th>mean</th>\n",
              "      <td>32.800000</td>\n",
              "      <td>30.557000</td>\n",
              "      <td>32.099000</td>\n",
              "      <td>0.806547</td>\n",
              "      <td>-6.138931</td>\n",
              "      <td>-1.975500</td>\n",
              "    </tr>\n",
              "    <tr>\n",
              "      <th>std</th>\n",
              "      <td>12.168814</td>\n",
              "      <td>7.114426</td>\n",
              "      <td>7.778589</td>\n",
              "      <td>37.482043</td>\n",
              "      <td>35.988570</td>\n",
              "      <td>41.024606</td>\n",
              "    </tr>\n",
              "    <tr>\n",
              "      <th>min</th>\n",
              "      <td>-1.000000</td>\n",
              "      <td>-1.000000</td>\n",
              "      <td>-1.000000</td>\n",
              "      <td>-351.226930</td>\n",
              "      <td>-713.745100</td>\n",
              "      <td>-972.272800</td>\n",
              "    </tr>\n",
              "    <tr>\n",
              "      <th>25%</th>\n",
              "      <td>27.000000</td>\n",
              "      <td>28.000000</td>\n",
              "      <td>29.000000</td>\n",
              "      <td>-16.859081</td>\n",
              "      <td>-14.811133</td>\n",
              "      <td>-10.015671</td>\n",
              "    </tr>\n",
              "    <tr>\n",
              "      <th>50%</th>\n",
              "      <td>33.000000</td>\n",
              "      <td>30.000000</td>\n",
              "      <td>32.000000</td>\n",
              "      <td>1.128854</td>\n",
              "      <td>-7.005438</td>\n",
              "      <td>-1.036931</td>\n",
              "    </tr>\n",
              "    <tr>\n",
              "      <th>75%</th>\n",
              "      <td>39.000000</td>\n",
              "      <td>33.000000</td>\n",
              "      <td>35.000000</td>\n",
              "      <td>19.177740</td>\n",
              "      <td>2.302842</td>\n",
              "      <td>7.699269</td>\n",
              "    </tr>\n",
              "    <tr>\n",
              "      <th>max</th>\n",
              "      <td>66.000000</td>\n",
              "      <td>66.000000</td>\n",
              "      <td>66.000000</td>\n",
              "      <td>187.786940</td>\n",
              "      <td>893.746500</td>\n",
              "      <td>333.999700</td>\n",
              "    </tr>\n",
              "  </tbody>\n",
              "</table>\n",
              "</div>\n",
              "      <button class=\"colab-df-convert\" onclick=\"convertToInteractive('df-4f5031f5-c4b2-423d-85bd-3e198e097bfe')\"\n",
              "              title=\"Convert this dataframe to an interactive table.\"\n",
              "              style=\"display:none;\">\n",
              "        \n",
              "  <svg xmlns=\"http://www.w3.org/2000/svg\" height=\"24px\"viewBox=\"0 0 24 24\"\n",
              "       width=\"24px\">\n",
              "    <path d=\"M0 0h24v24H0V0z\" fill=\"none\"/>\n",
              "    <path d=\"M18.56 5.44l.94 2.06.94-2.06 2.06-.94-2.06-.94-.94-2.06-.94 2.06-2.06.94zm-11 1L8.5 8.5l.94-2.06 2.06-.94-2.06-.94L8.5 2.5l-.94 2.06-2.06.94zm10 10l.94 2.06.94-2.06 2.06-.94-2.06-.94-.94-2.06-.94 2.06-2.06.94z\"/><path d=\"M17.41 7.96l-1.37-1.37c-.4-.4-.92-.59-1.43-.59-.52 0-1.04.2-1.43.59L10.3 9.45l-7.72 7.72c-.78.78-.78 2.05 0 2.83L4 21.41c.39.39.9.59 1.41.59.51 0 1.02-.2 1.41-.59l7.78-7.78 2.81-2.81c.8-.78.8-2.07 0-2.86zM5.41 20L4 18.59l7.72-7.72 1.47 1.35L5.41 20z\"/>\n",
              "  </svg>\n",
              "      </button>\n",
              "      \n",
              "  <style>\n",
              "    .colab-df-container {\n",
              "      display:flex;\n",
              "      flex-wrap:wrap;\n",
              "      gap: 12px;\n",
              "    }\n",
              "\n",
              "    .colab-df-convert {\n",
              "      background-color: #E8F0FE;\n",
              "      border: none;\n",
              "      border-radius: 50%;\n",
              "      cursor: pointer;\n",
              "      display: none;\n",
              "      fill: #1967D2;\n",
              "      height: 32px;\n",
              "      padding: 0 0 0 0;\n",
              "      width: 32px;\n",
              "    }\n",
              "\n",
              "    .colab-df-convert:hover {\n",
              "      background-color: #E2EBFA;\n",
              "      box-shadow: 0px 1px 2px rgba(60, 64, 67, 0.3), 0px 1px 3px 1px rgba(60, 64, 67, 0.15);\n",
              "      fill: #174EA6;\n",
              "    }\n",
              "\n",
              "    [theme=dark] .colab-df-convert {\n",
              "      background-color: #3B4455;\n",
              "      fill: #D2E3FC;\n",
              "    }\n",
              "\n",
              "    [theme=dark] .colab-df-convert:hover {\n",
              "      background-color: #434B5C;\n",
              "      box-shadow: 0px 1px 3px 1px rgba(0, 0, 0, 0.15);\n",
              "      filter: drop-shadow(0px 1px 2px rgba(0, 0, 0, 0.3));\n",
              "      fill: #FFFFFF;\n",
              "    }\n",
              "  </style>\n",
              "\n",
              "      <script>\n",
              "        const buttonEl =\n",
              "          document.querySelector('#df-4f5031f5-c4b2-423d-85bd-3e198e097bfe button.colab-df-convert');\n",
              "        buttonEl.style.display =\n",
              "          google.colab.kernel.accessAllowed ? 'block' : 'none';\n",
              "\n",
              "        async function convertToInteractive(key) {\n",
              "          const element = document.querySelector('#df-4f5031f5-c4b2-423d-85bd-3e198e097bfe');\n",
              "          const dataTable =\n",
              "            await google.colab.kernel.invokeFunction('convertToInteractive',\n",
              "                                                     [key], {});\n",
              "          if (!dataTable) return;\n",
              "\n",
              "          const docLinkHtml = 'Like what you see? Visit the ' +\n",
              "            '<a target=\"_blank\" href=https://colab.research.google.com/notebooks/data_table.ipynb>data table notebook</a>'\n",
              "            + ' to learn more about interactive tables.';\n",
              "          element.innerHTML = '';\n",
              "          dataTable['output_type'] = 'display_data';\n",
              "          await google.colab.output.renderOutput(dataTable, element);\n",
              "          const docLink = document.createElement('div');\n",
              "          docLink.innerHTML = docLinkHtml;\n",
              "          element.appendChild(docLink);\n",
              "        }\n",
              "      </script>\n",
              "    </div>\n",
              "  </div>\n",
              "  "
            ]
          },
          "metadata": {},
          "execution_count": 26
        }
      ]
    },
    {
      "cell_type": "markdown",
      "source": [
        "No null are found"
      ],
      "metadata": {
        "id": "vN4JNqUed5cl"
      }
    },
    {
      "cell_type": "code",
      "source": [
        "data.info()"
      ],
      "metadata": {
        "colab": {
          "base_uri": "https://localhost:8080/"
        },
        "id": "pjBKYREcd4_K",
        "outputId": "903ae3f4-93aa-43f3-be88-a59cc00cd6a0"
      },
      "execution_count": 27,
      "outputs": [
        {
          "output_type": "stream",
          "name": "stdout",
          "text": [
            "<class 'pandas.core.frame.DataFrame'>\n",
            "RangeIndex: 2000 entries, 0 to 1999\n",
            "Data columns (total 7 columns):\n",
            " #   Column  Non-Null Count  Dtype  \n",
            "---  ------  --------------  -----  \n",
            " 0   x       2000 non-null   float64\n",
            " 1   y       2000 non-null   float64\n",
            " 2   z       2000 non-null   float64\n",
            " 3   yaw     2000 non-null   float64\n",
            " 4   pitch   2000 non-null   float64\n",
            " 5   roll    2000 non-null   float64\n",
            " 6   img     2000 non-null   object \n",
            "dtypes: float64(6), object(1)\n",
            "memory usage: 109.5+ KB\n"
          ]
        }
      ]
    },
    {
      "cell_type": "markdown",
      "source": [
        "## Split data into train, validate and test sets"
      ],
      "metadata": {
        "id": "Bbswgb35Y1Po"
      }
    },
    {
      "cell_type": "code",
      "source": [
        "train, validate, test = np.split(data.sample(frac=1, random_state=1), [int(.6*len(data)), int(.8*len(data))])"
      ],
      "metadata": {
        "id": "yd_UNzvWYGmN"
      },
      "execution_count": 12,
      "outputs": []
    },
    {
      "cell_type": "code",
      "source": [
        "print(train.shape)\n",
        "print(validate.shape)\n",
        "print(test.shape)\n"
      ],
      "metadata": {
        "colab": {
          "base_uri": "https://localhost:8080/"
        },
        "id": "u3XVXKDUZCgy",
        "outputId": "fbbd7cbd-25af-4750-a330-d969149e8ca0"
      },
      "execution_count": 13,
      "outputs": [
        {
          "output_type": "stream",
          "name": "stdout",
          "text": [
            "(1200, 7)\n",
            "(400, 7)\n",
            "(400, 7)\n"
          ]
        }
      ]
    },
    {
      "cell_type": "code",
      "source": [
        "x_train, x_validate, x_test  = train.iloc[:, :3], validate.iloc[:, :3], test.iloc[:, :3]\n",
        "print(x_train.shape)\n",
        "print(x_validate.shape)\n",
        "print(x_test.shape)\n"
      ],
      "metadata": {
        "colab": {
          "base_uri": "https://localhost:8080/"
        },
        "id": "XZheI-15ZLsb",
        "outputId": "dbdf339e-f509-43ff-f521-45166134b1d9"
      },
      "execution_count": 30,
      "outputs": [
        {
          "output_type": "stream",
          "name": "stdout",
          "text": [
            "(1200, 3)\n",
            "(400, 3)\n",
            "(400, 3)\n"
          ]
        }
      ]
    },
    {
      "cell_type": "code",
      "source": [
        "y_train, y_validate, y_test = train.iloc[:, 3:-1], validate.iloc[:, 3:-1], test.iloc[:, 3:-1]\n",
        "print(y_train.shape)\n",
        "print(y_validate.shape)\n",
        "print(y_test.shape)"
      ],
      "metadata": {
        "colab": {
          "base_uri": "https://localhost:8080/"
        },
        "id": "4HTdmUrRZ7SN",
        "outputId": "cae2e308-d3e3-4dde-f503-7c22036417a4"
      },
      "execution_count": 31,
      "outputs": [
        {
          "output_type": "stream",
          "name": "stdout",
          "text": [
            "(1200, 3)\n",
            "(400, 3)\n",
            "(400, 3)\n"
          ]
        }
      ]
    },
    {
      "cell_type": "markdown",
      "source": [
        "## Model training\n",
        "#### Training different models on our dataset\n",
        "\n",
        "We'll train six models:\n",
        "- Linear regression\n",
        "- BayesianRidge regressor        ***done***   -> needs wrapper \n",
        "- DecisionTreeRegressor          ***done***\n",
        "- Support vector machine (SVR)   ***done***   -> needs wrapper \n",
        "- RandomForestRegressor\n",
        "- GradientBoostingRegressor\n",
        "- AdaBoostRegressor\n",
        "- knn                            ***done***"
      ],
      "metadata": {
        "id": "rUk1uKn2bluV"
      }
    },
    {
      "cell_type": "markdown",
      "source": [
        "### 1- Use cross validation to choose best model "
      ],
      "metadata": {
        "id": "s9mIJU7xuH63"
      }
    },
    {
      "cell_type": "code",
      "source": [
        "def cross_val_repeated(model):\n",
        "  # define the evaluation procedure\n",
        "  cv = RepeatedKFold(n_splits=10, n_repeats=3, random_state=1)\n",
        "\n",
        "  # evaluate the model and collect the scores\n",
        "  n_scores = cross_val_score(model, x_train, y_train, scoring='neg_mean_absolute_error', cv=cv, n_jobs=-1)\n",
        "\n",
        "  # force the scores to be positive\n",
        "  n_scores = np.absolute(n_scores)\n",
        "  # print(f'MAE: {np.mean(n_scores):.3f}')\n",
        "  return np.mean(n_scores)\n"
      ],
      "metadata": {
        "id": "-vIkzBNdb9B9"
      },
      "execution_count": 67,
      "outputs": []
    },
    {
      "cell_type": "code",
      "source": [
        "cv_scores_dict = {}"
      ],
      "metadata": {
        "id": "l3UQSbz6wnZB"
      },
      "execution_count": 61,
      "outputs": []
    },
    {
      "cell_type": "code",
      "source": [
        "# linear regression Models\n",
        "\n",
        "br_model = linear_model.BayesianRidge()\n",
        "br_wrapper = MultiOutputRegressor(br_model)\n",
        "cv_scores_dict['BayesianRidge'] = cross_val_repeated(br_wrapper)\n",
        "\n",
        "# Tree Models\n",
        "dt_model = DecisionTreeRegressor()\n",
        "cv_scores_dict['DecisionTreeRegressor'] = cross_val_repeated(dt_model)\n",
        "\n",
        "rf_model = RandomForestRegressor(n_estimators = 100, max_features = 'sqrt', max_depth = 5, random_state = 18)\n",
        "cv_scores_dict['RandomForestRegressor'] = cross_val_repeated(rf_model)\n",
        "\n",
        "# SVM Model\n",
        "svm_reg_model = svm.SVR()\n",
        "svm_wrapper = MultiOutputRegressor(svm_reg_model)\n",
        "cv_scores_dict['SVR'] = cross_val_repeated(svm_wrapper)\n",
        "\n",
        "# KNN Model\n",
        "knn_model = neighbors.KNeighborsRegressor(5, weights='uniform')       \n",
        "cv_scores_dict['KNN'] = cross_val_repeated(knn_model)\n"
      ],
      "metadata": {
        "id": "qv8HI0HOrBWH"
      },
      "execution_count": 68,
      "outputs": []
    },
    {
      "cell_type": "markdown",
      "source": [
        "### Bayesian optimizer for best hyper-parameters"
      ],
      "metadata": {
        "id": "axqyrscnpm0z"
      }
    },
    {
      "cell_type": "code",
      "source": [
        "import BayesianOptimization"
      ],
      "metadata": {
        "id": "hDmH9zARpyhG"
      },
      "execution_count": 43,
      "outputs": []
    },
    {
      "cell_type": "code",
      "source": [
        "# Gradient Boosting Machine\n",
        "def gbm_cl_bo(max_depth, max_features, learning_rate, n_estimators, subsample):\n",
        "    params_gbm = {}\n",
        "    params_gbm['max_depth'] = round(max_depth)\n",
        "    params_gbm['max_features'] = max_features\n",
        "    params_gbm['learning_rate'] = learning_rate\n",
        "    params_gbm['n_estimators'] = round(n_estimators)\n",
        "    params_gbm['subsample'] = subsample\n",
        "    scores = cross_val_score(GradientBoostingClassifier(random_state=123, **params_gbm),\n",
        "                             X_train, y_train, scoring=acc_score, cv=5).mean()\n",
        "    score = scores.mean()\n",
        "    return score\n",
        "# Run Bayesian Optimization\n",
        "start = time.time()\n",
        "params_gbm ={\n",
        "    'max_depth':(3, 10),\n",
        "    'max_features':(0.8, 1),\n",
        "    'learning_rate':(0.01, 1),\n",
        "    'n_estimators':(80, 150),\n",
        "    'subsample': (0.8, 1)\n",
        "}\n",
        "gbm_bo = BayesianOptimization(gbm_cl_bo, params_gbm, random_state=111)\n",
        "gbm_bo.maximize(init_points=20, n_iter=4)\n",
        "print('It takes %s minutes' % ((time.time() - start)/60))"
      ],
      "metadata": {
        "id": "m7bpVTp5ceNg"
      },
      "execution_count": 37,
      "outputs": []
    },
    {
      "cell_type": "markdown",
      "source": [
        "## Hyper-parameter Tuning"
      ],
      "metadata": {
        "id": "vewdvxj9oRsx"
      }
    },
    {
      "cell_type": "code",
      "source": [
        ""
      ],
      "metadata": {
        "id": "xFdYEfKcoZnt"
      },
      "execution_count": null,
      "outputs": []
    },
    {
      "cell_type": "markdown",
      "source": [
        "## Model Testing"
      ],
      "metadata": {
        "id": "G69aXtskoNl9"
      }
    },
    {
      "cell_type": "code",
      "source": [
        ""
      ],
      "metadata": {
        "id": "rsjo3b6SoPjb"
      },
      "execution_count": null,
      "outputs": []
    }
  ]
}